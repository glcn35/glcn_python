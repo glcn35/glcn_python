{
  "nbformat": 4,
  "nbformat_minor": 0,
  "metadata": {
    "colab": {
      "name": "morse_code.ipynb",
      "provenance": [],
      "collapsed_sections": [],
      "authorship_tag": "ABX9TyO8LSopyPrsJoRbXW57BugU",
      "include_colab_link": true
    },
    "kernelspec": {
      "name": "python3",
      "display_name": "Python 3"
    },
    "language_info": {
      "name": "python"
    }
  },
  "cells": [
    {
      "cell_type": "markdown",
      "metadata": {
        "id": "view-in-github",
        "colab_type": "text"
      },
      "source": [
        "<a href=\"https://colab.research.google.com/github/glcn35/glcn_python/blob/main/morse_code.ipynb\" target=\"_parent\"><img src=\"https://colab.research.google.com/assets/colab-badge.svg\" alt=\"Open In Colab\"/></a>"
      ]
    },
    {
      "cell_type": "code",
      "execution_count": 1,
      "metadata": {
        "id": "HJXaCUaHkIvc"
      },
      "outputs": [],
      "source": [
        "morse_code_dict = { 'A':'.-', 'B':'-...',\n",
        "                    'C':'-.-.', 'D':'-..', 'E':'.',\n",
        "                    'F':'..-.', 'G':'--.', 'H':'....',\n",
        "                    'I':'..', 'J':'.---', 'K':'-.-',\n",
        "                    'L':'.-..', 'M':'--', 'N':'-.',\n",
        "                    'O':'---', 'P':'.--.', 'Q':'--.-',\n",
        "                    'R':'.-.', 'S':'...', 'T':'-',\n",
        "                    'U':'..-', 'V':'...-', 'W':'.--',\n",
        "                    'X':'-..-', 'Y':'-.--', 'Z':'--..',\n",
        "                    '1':'.----', '2':'..---', '3':'...--',\n",
        "                    '4':'....-', '5':'.....', '6':'-....',\n",
        "                    '7':'--...', '8':'---..', '9':'----.',\n",
        "                    '0':'-----', ', ':'--..--', '.':'.-.-.-',\n",
        "                    '?':'..--..', '/':'-..-.', '-':'-....-',\n",
        "                    '(':'-.--.', ')':'-.--.-'}\n",
        "def morse(c):\n",
        "    kelime=\"\"\n",
        "    for i in c.upper():\n",
        "        if i in morse_code_dict:\n",
        "           kelime += morse_code_dict[i]\n",
        "        else:\n",
        "            kelime += \"    \"\n",
        "    return kelime"
      ]
    },
    {
      "cell_type": "code",
      "source": [
        "morse(\"ali? veli\")"
      ],
      "metadata": {
        "colab": {
          "base_uri": "https://localhost:8080/",
          "height": 36
        },
        "id": "2bw4VB37kRb0",
        "outputId": "0b1453d5-f692-4c9a-a4f4-1ebc1a5da5d5"
      },
      "execution_count": 2,
      "outputs": [
        {
          "output_type": "execute_result",
          "data": {
            "application/vnd.google.colaboratory.intrinsic+json": {
              "type": "string"
            },
            "text/plain": [
              "'.-.-......--..    ...-..-....'"
            ]
          },
          "metadata": {},
          "execution_count": 2
        }
      ]
    },
    {
      "cell_type": "code",
      "source": [
        "morse(\"gulcan123\")"
      ],
      "metadata": {
        "colab": {
          "base_uri": "https://localhost:8080/",
          "height": 36
        },
        "id": "8GRz8y6YkZ0E",
        "outputId": "a324f6c2-832d-4b70-d400-cb7ca227dd3f"
      },
      "execution_count": 68,
      "outputs": [
        {
          "output_type": "execute_result",
          "data": {
            "application/vnd.google.colaboratory.intrinsic+json": {
              "type": "string"
            },
            "text/plain": [
              "'--...-.-..-.-..--..----..---...--'"
            ]
          },
          "metadata": {},
          "execution_count": 68
        }
      ]
    },
    {
      "cell_type": "code",
      "source": [
        "def morse_code(d):\n",
        "   kelime=\"\"\n",
        "   for i in d.split(\"   \"):\n",
        "       for j in i.split(\" \"):\n",
        "         kelime += list(morse_code_dict.keys())[list(morse_code_dict.values()).index(j)]\n",
        "             \n",
        "   return kelime\n",
        "          "
      ],
      "metadata": {
        "id": "TSEGmMDbkZ4e"
      },
      "execution_count": 66,
      "outputs": []
    },
    {
      "cell_type": "code",
      "source": [
        "morse_code('.... . -.--   .--- ..- -.. .')"
      ],
      "metadata": {
        "colab": {
          "base_uri": "https://localhost:8080/",
          "height": 36
        },
        "id": "zwB6qatfw46W",
        "outputId": "4d1a1bd1-aa56-44e8-9d97-b69b3dc7e02d"
      },
      "execution_count": 67,
      "outputs": [
        {
          "output_type": "execute_result",
          "data": {
            "application/vnd.google.colaboratory.intrinsic+json": {
              "type": "string"
            },
            "text/plain": [
              "'HEYJUDE'"
            ]
          },
          "metadata": {},
          "execution_count": 67
        }
      ]
    },
    {
      "cell_type": "code",
      "source": [
        "list(morse_code_dict.keys())[list(morse_code_dict.values()).index(\"--.\")]"
      ],
      "metadata": {
        "colab": {
          "base_uri": "https://localhost:8080/",
          "height": 36
        },
        "id": "Hsw18i3kovwu",
        "outputId": "2a147c45-ce52-4a1b-971f-177af4eda48c"
      },
      "execution_count": 70,
      "outputs": [
        {
          "output_type": "execute_result",
          "data": {
            "application/vnd.google.colaboratory.intrinsic+json": {
              "type": "string"
            },
            "text/plain": [
              "'G'"
            ]
          },
          "metadata": {},
          "execution_count": 70
        }
      ]
    },
    {
      "cell_type": "code",
      "source": [
        "mydict = {'george': 16, 'amber': 19}\n",
        "print(list(mydict.keys())[list(mydict.values()).index(16)])\n",
        "for i,k in zip(mydict.keys(),mydict.values()):\n",
        "  print(i)"
      ],
      "metadata": {
        "colab": {
          "base_uri": "https://localhost:8080/"
        },
        "id": "N8__St5spA8o",
        "outputId": "ede173fa-8087-4210-a731-0e5f5af9cbe1"
      },
      "execution_count": 55,
      "outputs": [
        {
          "output_type": "stream",
          "name": "stdout",
          "text": [
            "george\n",
            "george\n",
            "amber\n"
          ]
        }
      ]
    },
    {
      "cell_type": "code",
      "source": [
        "print(*zip(morse_code_dict.keys(),morse_code_dict.values()))"
      ],
      "metadata": {
        "colab": {
          "base_uri": "https://localhost:8080/"
        },
        "id": "kYiiB7RAmyUr",
        "outputId": "a2f3c3a9-3786-42f1-8de1-77cb85e53fd1"
      },
      "execution_count": 15,
      "outputs": [
        {
          "output_type": "stream",
          "name": "stdout",
          "text": [
            "('A', '.-') ('B', '-...') ('C', '-.-.') ('D', '-..') ('E', '.') ('F', '..-.') ('G', '--.') ('H', '....') ('I', '..') ('J', '.---') ('K', '-.-') ('L', '.-..') ('M', '--') ('N', '-.') ('O', '---') ('P', '.--.') ('Q', '--.-') ('R', '.-.') ('S', '...') ('T', '-') ('U', '..-') ('V', '...-') ('W', '.--') ('X', '-..-') ('Y', '-.--') ('Z', '--..') ('1', '.----') ('2', '..---') ('3', '...--') ('4', '....-') ('5', '.....') ('6', '-....') ('7', '--...') ('8', '---..') ('9', '----.') ('0', '-----') (', ', '--..--') ('.', '.-.-.-') ('?', '..--..') ('/', '-..-.') ('-', '-....-') ('(', '-.--.') (')', '-.--.-')\n"
          ]
        }
      ]
    }
  ]
}