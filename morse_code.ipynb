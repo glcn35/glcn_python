{
  "nbformat": 4,
  "nbformat_minor": 0,
  "metadata": {
    "colab": {
      "name": "morse_code.ipynb",
      "provenance": [],
      "collapsed_sections": [],
      "authorship_tag": "ABX9TyOXEHWSommS3cetlnESmKAo",
      "include_colab_link": true
    },
    "kernelspec": {
      "name": "python3",
      "display_name": "Python 3"
    },
    "language_info": {
      "name": "python"
    }
  },
  "cells": [
    {
      "cell_type": "markdown",
      "metadata": {
        "id": "view-in-github",
        "colab_type": "text"
      },
      "source": [
        "<a href=\"https://colab.research.google.com/github/glcn35/glcn_python/blob/main/morse_code.ipynb\" target=\"_parent\"><img src=\"https://colab.research.google.com/assets/colab-badge.svg\" alt=\"Open In Colab\"/></a>"
      ]
    },
    {
      "cell_type": "code",
      "execution_count": 1,
      "metadata": {
        "id": "HJXaCUaHkIvc"
      },
      "outputs": [],
      "source": [
        "morse_code_dict = { 'A':'.-', 'B':'-...',\n",
        "                    'C':'-.-.', 'D':'-..', 'E':'.',\n",
        "                    'F':'..-.', 'G':'--.', 'H':'....',\n",
        "                    'I':'..', 'J':'.---', 'K':'-.-',\n",
        "                    'L':'.-..', 'M':'--', 'N':'-.',\n",
        "                    'O':'---', 'P':'.--.', 'Q':'--.-',\n",
        "                    'R':'.-.', 'S':'...', 'T':'-',\n",
        "                    'U':'..-', 'V':'...-', 'W':'.--',\n",
        "                    'X':'-..-', 'Y':'-.--', 'Z':'--..',\n",
        "                    '1':'.----', '2':'..---', '3':'...--',\n",
        "                    '4':'....-', '5':'.....', '6':'-....',\n",
        "                    '7':'--...', '8':'---..', '9':'----.',\n",
        "                    '0':'-----', ', ':'--..--', '.':'.-.-.-',\n",
        "                    '?':'..--..', '/':'-..-.', '-':'-....-',\n",
        "                    '(':'-.--.', ')':'-.--.-'}\n",
        "def morse(c):\n",
        "    kelime=\"\"\n",
        "    for i in c.upper():\n",
        "        if i in morse_code_dict:\n",
        "           kelime += morse_code_dict[i]\n",
        "        else:\n",
        "            kelime += \"    \"\n",
        "    return kelime"
      ]
    },
    {
      "cell_type": "code",
      "source": [
        "morse(\"ali? veli\")"
      ],
      "metadata": {
        "colab": {
          "base_uri": "https://localhost:8080/",
          "height": 36
        },
        "id": "2bw4VB37kRb0",
        "outputId": "0b1453d5-f692-4c9a-a4f4-1ebc1a5da5d5"
      },
      "execution_count": 2,
      "outputs": [
        {
          "output_type": "execute_result",
          "data": {
            "application/vnd.google.colaboratory.intrinsic+json": {
              "type": "string"
            },
            "text/plain": [
              "'.-.-......--..    ...-..-....'"
            ]
          },
          "metadata": {},
          "execution_count": 2
        }
      ]
    },
    {
      "cell_type": "code",
      "source": [
        "morse(\"gulcan123\")"
      ],
      "metadata": {
        "colab": {
          "base_uri": "https://localhost:8080/",
          "height": 36
        },
        "id": "8GRz8y6YkZ0E",
        "outputId": "a324f6c2-832d-4b70-d400-cb7ca227dd3f"
      },
      "execution_count": 68,
      "outputs": [
        {
          "output_type": "execute_result",
          "data": {
            "application/vnd.google.colaboratory.intrinsic+json": {
              "type": "string"
            },
            "text/plain": [
              "'--...-.-..-.-..--..----..---...--'"
            ]
          },
          "metadata": {},
          "execution_count": 68
        }
      ]
    },
    {
      "cell_type": "markdown",
      "source": [
        "2.In this kata you have to write a simple Morse code decoder. While the Morse code is now mostly superseded by voice and digital data communication channels, it still has its use in some applications around the world.\n",
        "The Morse code encodes every character as a sequence of \"dots\" and \"dashes\". For example, the letter A is coded as ·−, letter Q is coded as −−·−, and digit 1 is coded as ·−−−−. The Morse code is case-insensitive, traditionally capital letters are used. When the message is written in Morse code, a single space is used to separate the character codes and 3 spaces are used to separate words. For example, the message HEY JUDE in Morse code is ···· · −·−−   ·−−− ··− −·· ·.\n",
        "\n",
        "NOTE: Extra spaces before or after the code have no meaning and should be ignored.\n",
        "\n",
        "\n",
        "Your task is to implement a function that would take the morse code as input and return a decoded human-readable string."
      ],
      "metadata": {
        "id": "C-SOOAAUD-kp"
      }
    },
    {
      "cell_type": "markdown",
      "source": [
        ""
      ],
      "metadata": {
        "id": "-Ix8CrL4Evc-"
      }
    },
    {
      "cell_type": "code",
      "source": [
        "def morse_code(d):\n",
        "   kelime=\"\"\n",
        "   for i in d.split(\"   \"):\n",
        "       for j in i.split(\" \"):\n",
        "           kelime += list(morse_code_dict.keys())[list(morse_code_dict.values()).index(j)]\n",
        "       kelime +=\" \"    \n",
        "   return kelime\n",
        "          "
      ],
      "metadata": {
        "id": "TSEGmMDbkZ4e"
      },
      "execution_count": 78,
      "outputs": []
    },
    {
      "cell_type": "code",
      "source": [
        "morse_code('.... . -.--   .--- ..- -.. .')"
      ],
      "metadata": {
        "colab": {
          "base_uri": "https://localhost:8080/",
          "height": 36
        },
        "id": "zwB6qatfw46W",
        "outputId": "131ec0dc-db3c-4879-ae27-3f2be3fb5653"
      },
      "execution_count": 79,
      "outputs": [
        {
          "output_type": "execute_result",
          "data": {
            "application/vnd.google.colaboratory.intrinsic+json": {
              "type": "string"
            },
            "text/plain": [
              "'HEY JUDE '"
            ]
          },
          "metadata": {},
          "execution_count": 79
        }
      ]
    },
    {
      "cell_type": "code",
      "source": [
        "morse_code('....')"
      ],
      "metadata": {
        "colab": {
          "base_uri": "https://localhost:8080/",
          "height": 36
        },
        "id": "zqvbuvjW9OdA",
        "outputId": "933874dd-de18-4a9a-da2a-65d029c80d70"
      },
      "execution_count": 72,
      "outputs": [
        {
          "output_type": "execute_result",
          "data": {
            "application/vnd.google.colaboratory.intrinsic+json": {
              "type": "string"
            },
            "text/plain": [
              "'H'"
            ]
          },
          "metadata": {},
          "execution_count": 72
        }
      ]
    },
    {
      "cell_type": "code",
      "source": [
        "morse_code('.... . -.-- .--- ..- -.. .')"
      ],
      "metadata": {
        "colab": {
          "base_uri": "https://localhost:8080/",
          "height": 36
        },
        "id": "VwapqjNk9hZ-",
        "outputId": "58c2a127-9fb5-4b57-a468-829f6ddfa5c2"
      },
      "execution_count": 73,
      "outputs": [
        {
          "output_type": "execute_result",
          "data": {
            "application/vnd.google.colaboratory.intrinsic+json": {
              "type": "string"
            },
            "text/plain": [
              "'HEYJUDE'"
            ]
          },
          "metadata": {},
          "execution_count": 73
        }
      ]
    },
    {
      "cell_type": "code",
      "source": [
        "morse_code(\".... . .-.. .-.. ---   .-- --- .-. .-.. -..\")"
      ],
      "metadata": {
        "colab": {
          "base_uri": "https://localhost:8080/",
          "height": 36
        },
        "id": "w4OglBDEE5K7",
        "outputId": "a556307c-b8bf-4a1f-fee4-3b397e5f86f6"
      },
      "execution_count": 94,
      "outputs": [
        {
          "output_type": "execute_result",
          "data": {
            "application/vnd.google.colaboratory.intrinsic+json": {
              "type": "string"
            },
            "text/plain": [
              "'HELLO WORLD '"
            ]
          },
          "metadata": {},
          "execution_count": 94
        }
      ]
    },
    {
      "cell_type": "code",
      "source": [
        "list(morse_code_dict.keys())[list(morse_code_dict.values()).index(\"--.\")]"
      ],
      "metadata": {
        "colab": {
          "base_uri": "https://localhost:8080/",
          "height": 36
        },
        "id": "Hsw18i3kovwu",
        "outputId": "2a147c45-ce52-4a1b-971f-177af4eda48c"
      },
      "execution_count": 70,
      "outputs": [
        {
          "output_type": "execute_result",
          "data": {
            "application/vnd.google.colaboratory.intrinsic+json": {
              "type": "string"
            },
            "text/plain": [
              "'G'"
            ]
          },
          "metadata": {},
          "execution_count": 70
        }
      ]
    },
    {
      "cell_type": "code",
      "source": [
        "mydict = {'george': 16, 'amber': 19}\n",
        "print(list(mydict.keys())[list(mydict.values()).index(16)])\n",
        "for i,k in zip(mydict.keys(),mydict.values()):\n",
        "  print(i)"
      ],
      "metadata": {
        "colab": {
          "base_uri": "https://localhost:8080/"
        },
        "id": "N8__St5spA8o",
        "outputId": "ede173fa-8087-4210-a731-0e5f5af9cbe1"
      },
      "execution_count": 55,
      "outputs": [
        {
          "output_type": "stream",
          "name": "stdout",
          "text": [
            "george\n",
            "george\n",
            "amber\n"
          ]
        }
      ]
    },
    {
      "cell_type": "code",
      "source": [
        "print(*zip(morse_code_dict.keys(),morse_code_dict.values()))"
      ],
      "metadata": {
        "colab": {
          "base_uri": "https://localhost:8080/"
        },
        "id": "kYiiB7RAmyUr",
        "outputId": "a2f3c3a9-3786-42f1-8de1-77cb85e53fd1"
      },
      "execution_count": 15,
      "outputs": [
        {
          "output_type": "stream",
          "name": "stdout",
          "text": [
            "('A', '.-') ('B', '-...') ('C', '-.-.') ('D', '-..') ('E', '.') ('F', '..-.') ('G', '--.') ('H', '....') ('I', '..') ('J', '.---') ('K', '-.-') ('L', '.-..') ('M', '--') ('N', '-.') ('O', '---') ('P', '.--.') ('Q', '--.-') ('R', '.-.') ('S', '...') ('T', '-') ('U', '..-') ('V', '...-') ('W', '.--') ('X', '-..-') ('Y', '-.--') ('Z', '--..') ('1', '.----') ('2', '..---') ('3', '...--') ('4', '....-') ('5', '.....') ('6', '-....') ('7', '--...') ('8', '---..') ('9', '----.') ('0', '-----') (', ', '--..--') ('.', '.-.-.-') ('?', '..--..') ('/', '-..-.') ('-', '-....-') ('(', '-.--.') (')', '-.--.-')\n"
          ]
        }
      ]
    },
    {
      "cell_type": "code",
      "source": [
        "def decode(s):                 #kelimeler arası 2 boşluk harfler de 1 boşluk\n",
        "   kelime=\"\"\n",
        "   for i in s.split(\"  \"):\n",
        "       for j in i.split(\" \"):\n",
        "           kelime += list(morse_code_dict.keys())[list(morse_code_dict.values()).index(j)]\n",
        "       kelime +=\" \"    \n",
        "   return kelime"
      ],
      "metadata": {
        "id": "aa5eCkYkCiNS"
      },
      "execution_count": 84,
      "outputs": []
    },
    {
      "cell_type": "code",
      "source": [
        "decode(\".... . .-.. .-.. ---  .-- --- .-. .-.. -..\")"
      ],
      "metadata": {
        "colab": {
          "base_uri": "https://localhost:8080/",
          "height": 36
        },
        "id": "W14dz9AHCiQF",
        "outputId": "1be3b2c6-8cc2-4d03-d5d7-da74ea8e1268"
      },
      "execution_count": 85,
      "outputs": [
        {
          "output_type": "execute_result",
          "data": {
            "application/vnd.google.colaboratory.intrinsic+json": {
              "type": "string"
            },
            "text/plain": [
              "'HELLO WORLD '"
            ]
          },
          "metadata": {},
          "execution_count": 85
        }
      ]
    },
    {
      "cell_type": "code",
      "source": [
        "decode(\".---- ... -  .- -. -..  ..--- -. -..\")"
      ],
      "metadata": {
        "colab": {
          "base_uri": "https://localhost:8080/",
          "height": 36
        },
        "id": "7rixlmUPCiTS",
        "outputId": "e5deb6ff-d4d7-4f83-b549-be72a4871512"
      },
      "execution_count": 86,
      "outputs": [
        {
          "output_type": "execute_result",
          "data": {
            "application/vnd.google.colaboratory.intrinsic+json": {
              "type": "string"
            },
            "text/plain": [
              "'1ST AND 2ND '"
            ]
          },
          "metadata": {},
          "execution_count": 86
        }
      ]
    },
    {
      "cell_type": "code",
      "source": [
        "decode(\"..  .- --  .-  - . ... -\")"
      ],
      "metadata": {
        "colab": {
          "base_uri": "https://localhost:8080/",
          "height": 36
        },
        "id": "VRQUJnJcDBz-",
        "outputId": "c82a27fe-2ce9-4ac4-92ae-8b918702f301"
      },
      "execution_count": 87,
      "outputs": [
        {
          "output_type": "execute_result",
          "data": {
            "application/vnd.google.colaboratory.intrinsic+json": {
              "type": "string"
            },
            "text/plain": [
              "'I AM A TEST '"
            ]
          },
          "metadata": {},
          "execution_count": 87
        }
      ]
    },
    {
      "cell_type": "code",
      "source": [
        "decode(\".- -... -.-. -.. . ..-. --. .... .. .--- -.- .-.. -- -. --- .--. --.- .-. ... - ..- ...- .-- -..- -.-- --.. ----- .---- ..--- ...-- ....- ..... -.... --... ---.. ----.\")"
      ],
      "metadata": {
        "colab": {
          "base_uri": "https://localhost:8080/",
          "height": 36
        },
        "id": "iawxmAtjDKBk",
        "outputId": "445bce15-ab69-481e-8d34-a4bbf0e965b7"
      },
      "execution_count": 88,
      "outputs": [
        {
          "output_type": "execute_result",
          "data": {
            "application/vnd.google.colaboratory.intrinsic+json": {
              "type": "string"
            },
            "text/plain": [
              "'ABCDEFGHIJKLMNOPQRSTUVWXYZ0123456789 '"
            ]
          },
          "metadata": {},
          "execution_count": 88
        }
      ]
    },
    {
      "cell_type": "markdown",
      "source": [
        ""
      ],
      "metadata": {
        "id": "ehKmKlwuDuBp"
      }
    }
  ]
}