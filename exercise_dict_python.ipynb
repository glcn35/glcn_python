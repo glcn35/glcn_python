{
  "nbformat": 4,
  "nbformat_minor": 0,
  "metadata": {
    "colab": {
      "name": "exercise_dict_python.ipynb",
      "provenance": [],
      "authorship_tag": "ABX9TyPWOTRcja03p6KVuqJ2CYh3",
      "include_colab_link": true
    },
    "kernelspec": {
      "name": "python3",
      "display_name": "Python 3"
    },
    "language_info": {
      "name": "python"
    }
  },
  "cells": [
    {
      "cell_type": "markdown",
      "metadata": {
        "id": "view-in-github",
        "colab_type": "text"
      },
      "source": [
        "<a href=\"https://colab.research.google.com/github/glcn35/glcn_python/blob/main/exercise_dict_python.ipynb\" target=\"_parent\"><img src=\"https://colab.research.google.com/assets/colab-badge.svg\" alt=\"Open In Colab\"/></a>"
      ]
    },
    {
      "cell_type": "code",
      "execution_count": 52,
      "metadata": {
        "colab": {
          "base_uri": "https://localhost:8080/"
        },
        "id": "bsGpW6vdejN4",
        "outputId": "29c3367e-3d30-4167-9a0a-7b0e736d4119"
      },
      "outputs": [
        {
          "output_type": "stream",
          "name": "stdout",
          "text": [
            "{65: 'A', 66: 'B', 67: 'C', 68: 'D'}\n"
          ]
        }
      ],
      "source": [
        "new_dict={'A': 65, 'B': 66, 'C': 67, 'D': 68}\n",
        "my_dict={}\n",
        "for x,y in new_dict.items():\n",
        "  my_dict[y]=x\n",
        "print(my_dict)\n",
        "    "
      ]
    },
    {
      "cell_type": "code",
      "source": [
        "new_dict={'A': 65, 'B': 66, 'C': 67, 'D': 68}\n",
        "my_dict={y:x for x,y in new_dict.items()}\n",
        "my_dict    "
      ],
      "metadata": {
        "colab": {
          "base_uri": "https://localhost:8080/"
        },
        "id": "jmK-Hft5mk1J",
        "outputId": "d04f5bec-037e-4b7d-d3fa-7a0154896823"
      },
      "execution_count": 56,
      "outputs": [
        {
          "output_type": "execute_result",
          "data": {
            "text/plain": [
              "{65: 'A', 66: 'B', 67: 'C', 68: 'D'}"
            ]
          },
          "metadata": {},
          "execution_count": 56
        }
      ]
    }
  ]
}