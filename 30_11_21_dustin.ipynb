{
  "nbformat": 4,
  "nbformat_minor": 0,
  "metadata": {
    "colab": {
      "name": "30_11_21_dustin.ipynb",
      "provenance": [],
      "collapsed_sections": [],
      "authorship_tag": "ABX9TyNijLuGbZ4rkmkuPrWSBy/u",
      "include_colab_link": true
    },
    "kernelspec": {
      "name": "python3",
      "display_name": "Python 3"
    },
    "language_info": {
      "name": "python"
    }
  },
  "cells": [
    {
      "cell_type": "markdown",
      "metadata": {
        "id": "view-in-github",
        "colab_type": "text"
      },
      "source": [
        "<a href=\"https://colab.research.google.com/github/glcn35/glcn_python/blob/main/30_11_21_dustin.ipynb\" target=\"_parent\"><img src=\"https://colab.research.google.com/assets/colab-badge.svg\" alt=\"Open In Colab\"/></a>"
      ]
    },
    {
      "cell_type": "markdown",
      "source": [
        "### Question 1\n",
        "```\n",
        "Write a function that returns True if every consecutive sequence of ones is followed by a consecutive sequence of zeroes of the same length.\n",
        "\n",
        "same_length(\"110011100010\") ➞ True\n",
        "\n",
        "same_length(\"101010110\") ➞ False\n",
        "\n",
        "same_length(\"111100001100\") ➞ True\n",
        "\n",
        "same_length(\"111\") ➞ False"
      ],
      "metadata": {
        "id": "gVqVaeyzeUhJ"
      }
    },
    {
      "cell_type": "code",
      "source": [
        "num= \"110011100010\"\n",
        "while \"10\" in num or \"01\" in num:\n",
        "  num= num.replace(\"10\", \"\", 1).replace(\"01\", \"\",1)\n",
        "  print(num)\n",
        "if num==\"\":\n",
        "  print(\"True\")\n",
        "else:\n",
        "  print(\"False\")"
      ],
      "metadata": {
        "colab": {
          "base_uri": "https://localhost:8080/"
        },
        "id": "0Rze4aUueXjW",
        "outputId": "31be46d8-dc2a-44f2-8339-12c499ee55e5"
      },
      "execution_count": 2,
      "outputs": [
        {
          "output_type": "stream",
          "name": "stdout",
          "text": [
            "11100010\n",
            "1100\n",
            "10\n",
            "\n",
            "True\n"
          ]
        }
      ]
    },
    {
      "cell_type": "code",
      "source": [
        "num=\"1110001\"\n",
        "one,zero = 0, 0\n",
        "for i in num:\n",
        "  if i== \"1\":\n",
        "    one +=1\n",
        "  else:\n",
        "    zero +=1\n",
        "  if one == zero:\n",
        "    one, zero= 0, 0\n",
        "if one==0 and zero==0:\n",
        "    print(\"True\")\n",
        "else:\n",
        "  print(\"False\")\n"
      ],
      "metadata": {
        "colab": {
          "base_uri": "https://localhost:8080/"
        },
        "id": "yfdWcbajqyDV",
        "outputId": "77a781c1-1785-4050-f349-9cc2b7880df3"
      },
      "execution_count": 28,
      "outputs": [
        {
          "output_type": "stream",
          "name": "stdout",
          "text": [
            "False\n"
          ]
        }
      ]
    },
    {
      "cell_type": "code",
      "source": [
        "def num_eşit(num):\n",
        "  one,zero = 0, 0\n",
        "  for i in num:\n",
        "      if i== \"1\":\n",
        "         one +=1\n",
        "      else:\n",
        "         zero +=1\n",
        "      if one == zero:\n",
        "         one, zero= 0, 0\n",
        "  if one==0 and zero==0:\n",
        "    print(\"True\")\n",
        "  else:\n",
        "    print(\"False\")"
      ],
      "metadata": {
        "id": "pre0ponmu8Fw"
      },
      "execution_count": 32,
      "outputs": []
    },
    {
      "cell_type": "code",
      "source": [
        "num_eşit(\"1111\")"
      ],
      "metadata": {
        "colab": {
          "base_uri": "https://localhost:8080/"
        },
        "id": "Zs9IBqzWvLs5",
        "outputId": "1223fb0c-628b-4e09-82e3-2dcb43a2cb75"
      },
      "execution_count": 33,
      "outputs": [
        {
          "output_type": "stream",
          "name": "stdout",
          "text": [
            "False\n"
          ]
        }
      ]
    },
    {
      "cell_type": "code",
      "source": [
        "num_eşit(\"1110001\")"
      ],
      "metadata": {
        "colab": {
          "base_uri": "https://localhost:8080/"
        },
        "id": "pGNDAwemvXtp",
        "outputId": "bca9bbcf-30a8-44b9-b48a-ad20f99502ef"
      },
      "execution_count": 34,
      "outputs": [
        {
          "output_type": "stream",
          "name": "stdout",
          "text": [
            "False\n"
          ]
        }
      ]
    },
    {
      "cell_type": "code",
      "source": [
        "num_eşit(\"1010101110001100\")"
      ],
      "metadata": {
        "colab": {
          "base_uri": "https://localhost:8080/"
        },
        "id": "HIHrcaDdvXwj",
        "outputId": "315b4930-b86b-4bb4-b3ac-0d59573a9abf"
      },
      "execution_count": 35,
      "outputs": [
        {
          "output_type": "stream",
          "name": "stdout",
          "text": [
            "True\n"
          ]
        }
      ]
    },
    {
      "cell_type": "markdown",
      "source": [
        "### Question 2\n",
        "```\n",
        "Write a function that groups a string into parentheses cluster. Each cluster should be balanced.\n",
        "split(\"()()()\") ➞ [\"()\", \"()\", \"()\"]\n",
        "\n",
        "split(\"((()))\") ➞ [\"((()))\"]\n",
        "\n",
        "split(\"((()))(())()()(()())\") ➞ [\"((()))\", \"(())\", \"()\", \"()\", \"(()())\"]\n",
        "\n",
        "split(\"((())())(()(()()))\") ➞ [\"((())())\", \"(()(()()))\"]"
      ],
      "metadata": {
        "id": "gWEtqLQhpoi9"
      }
    },
    {
      "cell_type": "code",
      "source": [
        "num=\"((()))(())()()(()())\"\n",
        "left, right = 0, 0\n",
        "summ= \"\"\n",
        "res= []\n",
        "for i in num:\n",
        "  if i== \"(\":\n",
        "    left +=1\n",
        "    summ +=i\n",
        "  else:\n",
        "    right +=1\n",
        "    summ +=i\n",
        "  if left ==right:\n",
        "    res.append(summ)\n",
        "    left =0\n",
        "    right = 0\n",
        "    summ = \"\"\n",
        "print(res)\n",
        "\n"
      ],
      "metadata": {
        "colab": {
          "base_uri": "https://localhost:8080/"
        },
        "id": "ktUb4q6beXv7",
        "outputId": "67bf2dec-6299-4cf1-a723-b69ab9d2a84d"
      },
      "execution_count": 13,
      "outputs": [
        {
          "output_type": "stream",
          "name": "stdout",
          "text": [
            "['((()))', '(())', '()', '()', '(()())']\n"
          ]
        }
      ]
    },
    {
      "cell_type": "markdown",
      "source": [
        "### Question 3\n",
        "```\n",
        "Create a function that returns a list containing the prime factors of whatever integer is passed to it.\n",
        "\n",
        "prime_factors(20) ➞ [2, 2, 5]\n",
        "\n",
        "prime_factors(100) ➞ [2, 2, 5, 5]\n",
        "\n",
        "prime_factors(8912234) ➞ [2, 47, 94811]"
      ],
      "metadata": {
        "id": "PIty86Qyvpp5"
      }
    },
    {
      "cell_type": "code",
      "source": [
        "num = 100\n",
        "x=2\n",
        "res= []\n",
        "while num >1:\n",
        "  if num % x ==0:\n",
        "    num = num //x\n",
        "    res.append(x)\n",
        "  else:\n",
        "    x +=1\n",
        "print(res)"
      ],
      "metadata": {
        "colab": {
          "base_uri": "https://localhost:8080/"
        },
        "id": "TR060Z8QeXy9",
        "outputId": "663ea3ed-0b44-443e-f7f8-33d072ee830a"
      },
      "execution_count": 36,
      "outputs": [
        {
          "output_type": "stream",
          "name": "stdout",
          "text": [
            "[2, 2, 5, 5]\n"
          ]
        }
      ]
    },
    {
      "cell_type": "code",
      "source": [
        "def prime_factors(num):\n",
        "  x=2\n",
        "  res= []\n",
        "  while num >1:\n",
        "    if num % x ==0:\n",
        "      num = num //x\n",
        "      res.append(x)\n",
        "    else:\n",
        "       x +=1\n",
        "  return res\n",
        "  "
      ],
      "metadata": {
        "id": "1D2O0GP2eX1s"
      },
      "execution_count": 48,
      "outputs": []
    },
    {
      "cell_type": "code",
      "source": [
        "prime_factors(8912234)"
      ],
      "metadata": {
        "colab": {
          "base_uri": "https://localhost:8080/"
        },
        "id": "kfRvUODayMQu",
        "outputId": "c4bb3ca8-6fac-4eca-b3f8-49ed0e5a3b0b"
      },
      "execution_count": 50,
      "outputs": [
        {
          "output_type": "execute_result",
          "data": {
            "text/plain": [
              "[2, 47, 94811]"
            ]
          },
          "metadata": {},
          "execution_count": 50
        }
      ]
    },
    {
      "cell_type": "markdown",
      "source": [
        "\n",
        "### Question 4\n",
        "```\n",
        "Create a function that takes a number num and returns each place value in the number.\n",
        "\n",
        "num_split(39) ➞ [30, 9]\n",
        "\n",
        "num_split(-434) ➞ [-400, -30, -4]\n",
        "\n",
        "num_split(100) ➞ [100, 0, 0]"
      ],
      "metadata": {
        "id": "VMft9YXSioiD"
      }
    },
    {
      "cell_type": "code",
      "source": [
        "num = -434\n",
        "if num < 0:\n",
        "  negative = True\n",
        "  num= abs(num) \n",
        "else:\n",
        "  negative= False\n",
        "num = str(num)\n",
        "res = []\n",
        "lenght = len(num) -1\n",
        "\n",
        "for i in num:\n",
        "  res.append(i +\"0\"*lenght)\n",
        "  lenght -=1\n",
        "\n",
        "if negative:\n",
        "  res = [-int(i) for i in res]\n",
        "else:\n",
        "   res = [int(i) for i in res]\n",
        "print(res)"
      ],
      "metadata": {
        "colab": {
          "base_uri": "https://localhost:8080/"
        },
        "id": "4crGpzlXeX4d",
        "outputId": "dd8e7226-8b69-4bba-8f19-35341911df09"
      },
      "execution_count": 4,
      "outputs": [
        {
          "output_type": "stream",
          "name": "stdout",
          "text": [
            "[-400, -30, -4]\n"
          ]
        }
      ]
    },
    {
      "cell_type": "code",
      "source": [
        ""
      ],
      "metadata": {
        "id": "khiyFQRzillS"
      },
      "execution_count": null,
      "outputs": []
    },
    {
      "cell_type": "markdown",
      "source": [
        "### Question 5\n",
        "```\n",
        "Create a function that takes an integer n and returns the factorial of factorials. \n",
        "\n",
        "See below examples for a better understanding:\n",
        "\n",
        "fact_of_fact(4) ➞ 288\n",
        "#4! * 3! * 2! * 1! = 288\n",
        "\n",
        "fact_of_fact(5) ➞ 34560\n",
        "\n",
        "fact_of_fact(6) ➞ 24883200\n",
        "```"
      ],
      "metadata": {
        "id": "2hOeZQQHidHq"
      }
    },
    {
      "cell_type": "code",
      "source": [
        "n = 5\n",
        "\n",
        "res = 1\n",
        "\n",
        "for i in range(2, n + 1):\n",
        "    num = 1\n",
        "    for j in range(1, i + 1):\n",
        "        num *= j\n",
        "#         print('1',num)\n",
        "    res *= num\n",
        "#     print('2',res)\n",
        "print(res)"
      ],
      "metadata": {
        "colab": {
          "base_uri": "https://localhost:8080/"
        },
        "id": "MCIbTcvFiy8F",
        "outputId": "983b9cae-9f24-4031-ad9f-bc7bc3d10f27"
      },
      "execution_count": 3,
      "outputs": [
        {
          "output_type": "stream",
          "name": "stdout",
          "text": [
            "34560\n"
          ]
        }
      ]
    },
    {
      "cell_type": "markdown",
      "source": [
        "### Question 6\n",
        "```\n",
        "You are given a list which may contain sublists. Your task is to find the depth of the deepest sublist.\n",
        "\n",
        "[a] = 1 depth\n",
        "[[a]] = 2 depth\n",
        "[[[a]]] = 3 depth, etc\n",
        "Examples\n",
        "deepest([1, [2, 3], 4, [5, 6]]) ➞ 2\n",
        "\n",
        "deepest([[[[[[[[[[1]]]]]]]]]]) ➞ 10\n",
        "\n",
        "deepest([1, 4, [1, 4, [1, 4, [1, 4, [5]]]]]) ➞ 5"
      ],
      "metadata": {
        "id": "iD6xA7_LkbQv"
      }
    },
    {
      "cell_type": "code",
      "source": [
        "#lst = [[],[[[[[5]]]]],[[[[[[[6]]]]]]],[[[[[[[[[[[[7]]]]]]]]]]]]]\n",
        "lst= [1, [2, 3], 4, [5, 6]]\n",
        "lst=[1, 4, [1, 4, [1, 4, [1, 4, [5]]]]]\n",
        "lst = str(lst)\n",
        "\n",
        "count = 0\n",
        "res = []\n",
        "\n",
        "for i in lst:\n",
        "    if i == '[':\n",
        "        count += 1\n",
        "        res.append(count)\n",
        "    elif i == ']':\n",
        "        count -= 1\n",
        "        res.append(count)\n",
        "# print(res)\n",
        "print(max(res))"
      ],
      "metadata": {
        "id": "DzTAm3KWiy-3"
      },
      "execution_count": null,
      "outputs": []
    },
    {
      "cell_type": "markdown",
      "source": [
        "### Question 7\n",
        "```\n",
        "\"Loves me, loves me not\" is a traditional game in which a person plucks off all the petals of a flower one by one, saying the phrase \"Loves me\" and \"Loves me not\" when determining whether the one that they love, loves them back.\n",
        "\n",
        "Given a number of petals, return a string which repeats the phrases \"Loves me\" and \"Loves me not\" for every alternating petal, and return the last phrase in all caps. Remember to put a comma and space between phrases.\n",
        "\n",
        "For n = 5: \n",
        "Loves me, Loves me not, Loves me, Loves me not, LOVES ME"
      ],
      "metadata": {
        "id": "ZQ3ntrYLktPW"
      }
    },
    {
      "cell_type": "code",
      "source": [
        "n = 10\n",
        "text = \"Loves me\"\n",
        "res = \"\"\n",
        "for i in range(1, n+1):\n",
        "  if i %2 ==0:\n",
        "    a=text + ' not, '\n",
        "  else:\n",
        "    a=text +', '\n",
        "  if i !=n:\n",
        "    res +=a\n",
        "  else:\n",
        "    res += a.upper()\n",
        "res = res.rstrip(', ')\n",
        "res\n"
      ],
      "metadata": {
        "colab": {
          "base_uri": "https://localhost:8080/",
          "height": 53
        },
        "id": "q21R5J0SizBP",
        "outputId": "5361d1f2-5a5e-44df-e908-0f5eda6167c2"
      },
      "execution_count": 7,
      "outputs": [
        {
          "output_type": "execute_result",
          "data": {
            "application/vnd.google.colaboratory.intrinsic+json": {
              "type": "string"
            },
            "text/plain": [
              "'Loves me, Loves me not, Loves me, Loves me not, Loves me, Loves me not, Loves me, Loves me not, Loves me, LOVES ME NOT'"
            ]
          },
          "metadata": {},
          "execution_count": 7
        }
      ]
    },
    {
      "cell_type": "code",
      "source": [
        ""
      ],
      "metadata": {
        "id": "dfSjpFS2izEH"
      },
      "execution_count": null,
      "outputs": []
    },
    {
      "cell_type": "code",
      "source": [
        ""
      ],
      "metadata": {
        "id": "7wCNWYDoizHC"
      },
      "execution_count": null,
      "outputs": []
    },
    {
      "cell_type": "code",
      "source": [
        ""
      ],
      "metadata": {
        "id": "N181Ngm4eX64"
      },
      "execution_count": 2,
      "outputs": []
    }
  ]
}