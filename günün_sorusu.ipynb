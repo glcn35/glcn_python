{
  "nbformat": 4,
  "nbformat_minor": 0,
  "metadata": {
    "colab": {
      "name": "günün_sorusu.ipynb",
      "provenance": [],
      "authorship_tag": "ABX9TyPdHguAagL2N7qlbaxQyJMn",
      "include_colab_link": true
    },
    "kernelspec": {
      "name": "python3",
      "display_name": "Python 3"
    },
    "language_info": {
      "name": "python"
    }
  },
  "cells": [
    {
      "cell_type": "markdown",
      "metadata": {
        "id": "view-in-github",
        "colab_type": "text"
      },
      "source": [
        "<a href=\"https://colab.research.google.com/github/glcn35/glcn_python/blob/main/g%C3%BCn%C3%BCn_sorusu.ipynb\" target=\"_parent\"><img src=\"https://colab.research.google.com/assets/colab-badge.svg\" alt=\"Open In Colab\"/></a>"
      ]
    },
    {
      "cell_type": "code",
      "execution_count": 18,
      "metadata": {
        "id": "Rx9XZarTUky3"
      },
      "outputs": [],
      "source": [
        "def ort():\n",
        "  listem=list(map(float,input(\"enter number:\").split()))\n",
        "  return sum(listem)/len(listem)"
      ]
    },
    {
      "cell_type": "code",
      "source": [
        "ort()"
      ],
      "metadata": {
        "colab": {
          "base_uri": "https://localhost:8080/"
        },
        "id": "vHoMxI2tVIw_",
        "outputId": "2e58855f-1bbd-4a76-fec7-eba29511fa89"
      },
      "execution_count": 21,
      "outputs": [
        {
          "name": "stdout",
          "output_type": "stream",
          "text": [
            "enter number:7 6 8 12 5.5\n"
          ]
        },
        {
          "output_type": "execute_result",
          "data": {
            "text/plain": [
              "7.7"
            ]
          },
          "metadata": {},
          "execution_count": 21
        }
      ]
    },
    {
      "cell_type": "markdown",
      "source": [
        "Günün sorusu: Write a function to find the average of numbers in a list in Python. (The list should be user input and we don’t know the number of elements in the list)"
      ],
      "metadata": {
        "id": "kYcy64xNXbbx"
      }
    },
    {
      "cell_type": "code",
      "source": [
        "def ort():\n",
        "  listem=list(map(float,input(\"enter number:\").split()))\n",
        "  return sum(listem)/len(listem)"
      ],
      "metadata": {
        "id": "tNASWHjPVI5k"
      },
      "execution_count": 22,
      "outputs": []
    },
    {
      "cell_type": "code",
      "source": [
        "ort()"
      ],
      "metadata": {
        "colab": {
          "base_uri": "https://localhost:8080/"
        },
        "id": "0Qc3p2UHXlJC",
        "outputId": "af31536b-74a2-4d5c-c63f-84310b614632"
      },
      "execution_count": 23,
      "outputs": [
        {
          "name": "stdout",
          "output_type": "stream",
          "text": [
            "enter number:55 66 77 88\n"
          ]
        },
        {
          "output_type": "execute_result",
          "data": {
            "text/plain": [
              "71.5"
            ]
          },
          "metadata": {},
          "execution_count": 23
        }
      ]
    }
  ]
}