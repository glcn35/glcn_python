{
  "nbformat": 4,
  "nbformat_minor": 0,
  "metadata": {
    "colab": {
      "name": "06.01.2022.ipynb",
      "provenance": [],
      "collapsed_sections": [],
      "authorship_tag": "ABX9TyPTLBd8V7JerLyO4RQbNpP7",
      "include_colab_link": true
    },
    "kernelspec": {
      "name": "python3",
      "display_name": "Python 3"
    },
    "language_info": {
      "name": "python"
    }
  },
  "cells": [
    {
      "cell_type": "markdown",
      "metadata": {
        "id": "view-in-github",
        "colab_type": "text"
      },
      "source": [
        "<a href=\"https://colab.research.google.com/github/glcn35/glcn_python/blob/main/06_01_2022.ipynb\" target=\"_parent\"><img src=\"https://colab.research.google.com/assets/colab-badge.svg\" alt=\"Open In Colab\"/></a>"
      ]
    },
    {
      "cell_type": "markdown",
      "source": [
        "1- Given two arrays of strings a1 and a2 return a sorted array r in lexicographical order of the strings of a1 which are substrings of strings of a2.\n",
        "\n",
        "Example 1: a1 = [\"arp\", \"live\", \"strong\"]\n",
        "\n",
        "a2 = [\"lively\", \"alive\", \"harp\", \"sharp\", \"armstrong\"]\n",
        "\n",
        "returns [\"arp\", \"live\", \"strong\"]\n",
        "\n",
        "Example 2: a1 = [\"tarp\", \"mice\", \"bull\"]\n",
        "\n",
        "a2 = [\"lively\", \"alive\", \"harp\", \"sharp\", \"armstrong\"]\n",
        "\n",
        "returns []"
      ],
      "metadata": {
        "id": "dBjIM3XIqyRw"
      }
    },
    {
      "cell_type": "code",
      "source": [
        "# Stringleri bir dizide saklayacağız, sıralayacağız ve diziyi result olarak geri döndüreceğiz. \n",
        "\n",
        "def in_array(array1,array2):        # fonksiyonu tanımlayalım\n",
        "  result = []\n",
        "  for item in array1:               # önce birinci dizideki stringleri bulmak için bir döngü oluşturalım\n",
        "    for item2 in array2:            # bu döngünün içerisinde, birinci dizideki stringlerin ikinci dizinin alt stringi olup olmadığını bulmak için ikinci bit döngü oluşturalım \n",
        "      if item in item2 and item not in result:    # eğer birinci dizideki bir item ikinci dizieki bir item ın substringi ise ve result da daha önce yoksa onu result a ekleyelim\n",
        "        result.append(item)\n",
        "        break\n",
        "  result.sort()                     # result ı sıralayalım\n",
        "  return result                     # result ı döndürelim  \n",
        "\n",
        "a1 = [\"arp\", \"live\", \"strong\"]      # birinci dizi\n",
        "a2 = [\"lively\", \"alive\", \"harp\", \"sharp\", \"armstrong\"]  # ikinci dizi\n",
        "\n",
        "in_array(a1,a2) # fonksiyonu çağıralım"
      ],
      "metadata": {
        "colab": {
          "base_uri": "https://localhost:8080/"
        },
        "id": "NGofQr_Nq2Ft",
        "outputId": "65bb575f-ce1d-41bc-c508-c75df8417e5f"
      },
      "execution_count": 1,
      "outputs": [
        {
          "output_type": "execute_result",
          "data": {
            "text/plain": [
              "['arp', 'live', 'strong']"
            ]
          },
          "metadata": {},
          "execution_count": 1
        }
      ]
    },
    {
      "cell_type": "markdown",
      "source": [
        "Group Anagrams\n",
        "Title: Given an array of strings, you can combine words with different letters. Alphabetic words refer to strings with the same letters but arranged differently.\n",
        "\n",
        "Given an array of strings, group anagrams together.\n",
        "\n",
        "Example:\n",
        "\n",
        "Input: [\"eat\", \"tea\", \"tan\", \"ate\", \"nat\", \"bat\"]\n",
        "\n",
        "Output:\n",
        "\n",
        "**[\n",
        "\n",
        "[\"ate\",\"eat\",\"tea\"],\n",
        "\n",
        "[\"nat\",\"tan\"],\n",
        "\n",
        "[\"bat\"]\n",
        "\n",
        "]\n",
        "\n",
        "Explain:\n",
        "\n",
        "All inputs are lowercase. Do not consider the order of the answer output. Note:\n",
        "\n",
        "All inputs will be in lowercase. The order of your output does not matter."
      ],
      "metadata": {
        "id": "okfGQSJ5q-aT"
      }
    },
    {
      "cell_type": "code",
      "source": [
        "strs = [\"eat\", \"tea\", \"tan\", \"ate\", \"nat\", \"bat\", \"cat\", \"tac\"]\n",
        "group = {}\n",
        "\n",
        "for i in strs :\n",
        "  kelime = \"\".join(sorted(i))\n",
        "  if kelime in group :\n",
        "    group[kelime].append(i)\n",
        "  else :\n",
        "    group[kelime] = [i]\n",
        "\n",
        "print(list(group.values()))\n",
        "print(list(group.items()))"
      ],
      "metadata": {
        "colab": {
          "base_uri": "https://localhost:8080/"
        },
        "id": "2UBN6S_qq2Qd",
        "outputId": "03c8a291-f3fd-4737-e780-49b789975ec8"
      },
      "execution_count": 2,
      "outputs": [
        {
          "output_type": "stream",
          "name": "stdout",
          "text": [
            "[['eat', 'tea', 'ate'], ['tan', 'nat'], ['bat'], ['cat', 'tac']]\n",
            "[('aet', ['eat', 'tea', 'ate']), ('ant', ['tan', 'nat']), ('abt', ['bat']), ('act', ['cat', 'tac'])]\n"
          ]
        }
      ]
    },
    {
      "cell_type": "code",
      "source": [
        "strs = [\"eat\", \"ece\", \"gece\", \"ateat\", \"nat\", \"batnat\", \"mece\", \"tac\"]\n",
        "group = {}\n",
        "\n",
        "for i in strs :\n",
        "  kelime = \"\".join(i)\n",
        "  if kelime in group :\n",
        "    group[kelime].append(i)\n",
        "  else :\n",
        "    group[kelime] = [i]\n",
        "print(list(group.items()))"
      ],
      "metadata": {
        "id": "PFFEwOrgrDIt"
      },
      "execution_count": null,
      "outputs": []
    },
    {
      "cell_type": "code",
      "source": [
        "strs = [\"eat\", \"tea\", \"tan\", \"ate\", \"nat\", \"bat\", \"cat\", \"tac\"]\n",
        "group = {}\n",
        "\n",
        "for i in strs :\n",
        "  kelime = \"\".join(sorted(i))\n",
        "  if kelime in group :\n",
        "    group[kelime].append(i)\n",
        "  else :\n",
        "    group[kelime] = [i]\n",
        "\n",
        "print(group)\n",
        "print(list(group.values()))"
      ],
      "metadata": {
        "id": "1kjT8BFVrDPU"
      },
      "execution_count": null,
      "outputs": []
    },
    {
      "cell_type": "code",
      "source": [
        "strs = [\"eat\", \"tea\", \"tan\", \"ate\", \"nat\", \"bat\", \"cat\", \"tac\"]\n",
        "group = {}\n",
        "\n",
        "for i in strs :\n",
        "  kelime = \"\".join(sorted(i))\n",
        "  if kelime not in group :\n",
        "    group.setdefault(kelime,[])\n",
        "  group[kelime].append(i)\n",
        "print(list(group.values()))"
      ],
      "metadata": {
        "id": "6l5X7CDHrJO2"
      },
      "execution_count": null,
      "outputs": []
    },
    {
      "cell_type": "code",
      "source": [
        "strs = [\"eat\", \"tea\", \"tan\", \"ate\", \"nat\", \"bat\", \"cat\", \"tac\"]\n",
        "group = {}\n",
        "\n",
        "for i in strs :\n",
        "  kelime = \"\".join(sorted(i))\n",
        "  print(i)\n",
        "  print(\"group :\", group)\n",
        "  print(\"i :\",i,\"kelime :\", kelime)\n",
        "  if kelime in group :\n",
        "    group[kelime].append(i)\n",
        "  else :\n",
        "    group[kelime] = [i]\n",
        "print(list(group.values()))"
      ],
      "metadata": {
        "id": "oy5Zc8sirJYo"
      },
      "execution_count": null,
      "outputs": []
    },
    {
      "cell_type": "code",
      "source": [
        "strs = [\"eat\", \"tea\", \"tan\", \"ate\", \"nat\", \"bat\", \"cat\", \"tac\"]\n",
        "group = {}\n",
        "\n",
        "for i in strs :\n",
        "  kelime = \"\".join(sorted(i))\n",
        "  print(\"group :\", group)\n",
        "  print(\"i :\",i,\"kelime :\", kelime)\n",
        "  if kelime not in group :\n",
        "    group[kelime] = [i]\n",
        "  else :\n",
        "    group[kelime].append(i)\n",
        "print(list(group.values()))"
      ],
      "metadata": {
        "id": "gjDfu1iSrPIv"
      },
      "execution_count": null,
      "outputs": []
    },
    {
      "cell_type": "markdown",
      "source": [
        "3- Kullanıcıdan alınan bir metinde hangi harfin kaç kez kullanıldığını gösteren bir program yazınız."
      ],
      "metadata": {
        "id": "UtXio5wrrUh6"
      }
    },
    {
      "cell_type": "code",
      "source": [
        "metin = input(\"\")\n",
        "dict_metin = {}\n",
        "\n",
        "for i in metin:\n",
        "  if i not in dict_metin:\n",
        "    dict_metin[i] = [i]\n",
        "  else:\n",
        "    dict_metin[i] += [i]\n",
        "\n",
        "print(dict_metin)\n",
        "print([i for i in dict_metin.values()])"
      ],
      "metadata": {
        "id": "s6RaV9BNrPQk"
      },
      "execution_count": null,
      "outputs": []
    },
    {
      "cell_type": "code",
      "source": [
        "metin = input(\"\")\n",
        "dict_metin = {}\n",
        "\n",
        "for i in metin:\n",
        "  if i not in dict_metin:\n",
        "    dict_metin[i] = 0\n",
        "  else:\n",
        "    dict_metin[i] += 1\n",
        "\n",
        "print(dict_metin)\n",
        "print([i for i in dict_metin.values()])"
      ],
      "metadata": {
        "id": "wRh9Q__HrZWM"
      },
      "execution_count": null,
      "outputs": []
    },
    {
      "cell_type": "code",
      "source": [
        "def my_func():\n",
        "    metin=input(\"veri giriniz\")\n",
        "    blank_list={}\n",
        "    for i in metin:\n",
        "        if i not in blank_list:\n",
        "            blank_list.setdefault(i,[])\n",
        "        blank_list[i].append(i)\n",
        "    print(blank_list)\n",
        "my_func()"
      ],
      "metadata": {
        "id": "_j334rKYreDz"
      },
      "execution_count": null,
      "outputs": []
    },
    {
      "cell_type": "code",
      "source": [
        "def my_func():\n",
        "    metin=input(\"veri giriniz\")\n",
        "    blank_list={}\n",
        "    for i in metin:\n",
        "        if i not in blank_list:\n",
        "            blank_list.setdefault(i,\"\")\n",
        "        blank_list[i]+=i\n",
        "    print(blank_list)\n",
        "my_func()"
      ],
      "metadata": {
        "id": "-b5jHYuUrfii"
      },
      "execution_count": null,
      "outputs": []
    },
    {
      "cell_type": "code",
      "source": [
        "car = {\n",
        "  \"brand\": \"Ford\",\n",
        "  \"model\": \"Mustang\",\n",
        "  \"year\": 1964\n",
        "}\n",
        "\n",
        "x = car.setdefault(\"model\", \"Bronco\")\n",
        "\n",
        "print(car)"
      ],
      "metadata": {
        "colab": {
          "base_uri": "https://localhost:8080/"
        },
        "id": "DmLhvgxKrp1u",
        "outputId": "61aebd8b-90e2-4993-9d53-fd02e738c25c"
      },
      "execution_count": 4,
      "outputs": [
        {
          "output_type": "stream",
          "name": "stdout",
          "text": [
            "{'brand': 'Ford', 'model': 'Mustang', 'year': 1964}\n"
          ]
        }
      ]
    },
    {
      "cell_type": "markdown",
      "source": [
        "girilen metnin index eşleşmesini yapınız."
      ],
      "metadata": {
        "id": "TtS4fwc8rz_s"
      }
    },
    {
      "cell_type": "code",
      "source": [
        "word= input(\"\")\n",
        "my_dict={}\n",
        "for i in range(len(word)):\n",
        "  my_dict[i]=word[i]\n",
        "print(my_dict)"
      ],
      "metadata": {
        "colab": {
          "base_uri": "https://localhost:8080/"
        },
        "id": "NGqTteSbruwP",
        "outputId": "a969a7fc-df64-4d0e-8b12-b27a3c0c86c5"
      },
      "execution_count": 3,
      "outputs": [
        {
          "output_type": "stream",
          "name": "stdout",
          "text": [
            "nasılsınız\n",
            "{0: 'n', 1: 'a', 2: 's', 3: 'ı', 4: 'l', 5: 's', 6: 'ı', 7: 'n', 8: 'ı', 9: 'z'}\n"
          ]
        }
      ]
    },
    {
      "cell_type": "code",
      "source": [
        "my_input=input(\"please write a word :\")\n",
        "my_dict={}\n",
        "for num,alp in enumerate(my_input,0):\n",
        "    my_dict.setdefault(num,alp)\n",
        "print(my_dict)\n",
        "\n",
        "# my_input=input(\"please write a word :\")\n",
        "# my_dict={}\n",
        "# for num,alp in enumerate(my_input):\n",
        "#     my_dict.setdefault(alp,num)\n",
        "# print(my_dict)"
      ],
      "metadata": {
        "colab": {
          "base_uri": "https://localhost:8080/"
        },
        "id": "m-wIJftGru7z",
        "outputId": "8c90a535-e1b8-410b-8226-36717f127fe8"
      },
      "execution_count": 5,
      "outputs": [
        {
          "output_type": "stream",
          "name": "stdout",
          "text": [
            "please write a word :merhaba\n",
            "{0: 'm', 1: 'e', 2: 'r', 3: 'h', 4: 'a', 5: 'b', 6: 'a'}\n"
          ]
        }
      ]
    }
  ]
}