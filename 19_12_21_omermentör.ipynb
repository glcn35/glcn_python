{
  "nbformat": 4,
  "nbformat_minor": 0,
  "metadata": {
    "colab": {
      "name": "19.12.21.omermentör.ipynb",
      "provenance": [],
      "collapsed_sections": [],
      "authorship_tag": "ABX9TyMTfjbbZN4vEB2yvg2qsedL",
      "include_colab_link": true
    },
    "kernelspec": {
      "name": "python3",
      "display_name": "Python 3"
    },
    "language_info": {
      "name": "python"
    }
  },
  "cells": [
    {
      "cell_type": "markdown",
      "metadata": {
        "id": "view-in-github",
        "colab_type": "text"
      },
      "source": [
        "<a href=\"https://colab.research.google.com/github/glcn35/glcn_python/blob/main/19_12_21_omerment%C3%B6r.ipynb\" target=\"_parent\"><img src=\"https://colab.research.google.com/assets/colab-badge.svg\" alt=\"Open In Colab\"/></a>"
      ]
    },
    {
      "cell_type": "code",
      "execution_count": 1,
      "metadata": {
        "colab": {
          "base_uri": "https://localhost:8080/"
        },
        "id": "ASH0WEw8gCC9",
        "outputId": "2285f6be-1880-462a-f53e-9316fadee248"
      },
      "outputs": [
        {
          "output_type": "stream",
          "name": "stdout",
          "text": [
            "How many students are you going to enter? 3\n",
            "What is the students name and his grades? ali 30 40 50 \n",
            "What is the students name and his grades? veli  40 50 60\n",
            "What is the students name and his grades? seli 50 60 70\n",
            "Whose grades do you want to see? veli\n",
            "50.0\n"
          ]
        }
      ],
      "source": [
        "student_number = int(input(\"How many students are you going to enter? \"))\n",
        "students = dict()\n",
        "for i in range(student_number):\n",
        "    student_info = input(\"What is the students name and his grades? \")\n",
        "    student_info = student_info.split() #       ['Harsh', '25', '26.5', '28']\n",
        "    student_name = student_info[0]\n",
        "    students[student_name] = student_info[1:]\n",
        "\n",
        "wanted_student = input(\"Whose grades do you want to see? \")\n",
        "\n",
        "sum_of_grades = 0\n",
        "for grade in students[wanted_student]:\n",
        "    grade = float(grade)\n",
        "    sum_of_grades += grade\n",
        "average_grade = sum_of_grades / 3 \n",
        "print(average_grade)"
      ]
    },
    {
      "cell_type": "markdown",
      "source": [
        "# Find a students average\n",
        "\n",
        "#   Sample Input :\n",
        "#       2\n",
        "#       Harsh 25 26.5 28\n",
        "#       Anurag 26 28 30\n",
        "#       Harsh\n",
        "\n",
        "#   Sample Output:\n",
        "#       26.50"
      ],
      "metadata": {
        "id": "pQtm9JHtiRk3"
      }
    },
    {
      "cell_type": "code",
      "source": [
        "student_number = int(input(\"How many students are you going to enter? \"))\n",
        "students = dict()\n",
        "for i in range(student_number):\n",
        "    student_info = input(\"What is the students name and his grades? \")\n",
        "    student_info = student_info.split() #       ['Harsh', '25', '26.5', '28']\n",
        "    student_name = student_info[0]\n",
        "    students[student_name] = list(map(float,student_info[1:]))\n",
        "\n",
        "wanted_student = input(\"Whose grades do you want to see? \")\n",
        "\n",
        "sum_of_grades = sum(students[wanted_student])\n",
        "average_grade = sum_of_grades / len(students[wanted_student]) \n",
        "print(average_grade)"
      ],
      "metadata": {
        "id": "jVv4Immbgiqm"
      },
      "execution_count": null,
      "outputs": []
    },
    {
      "cell_type": "code",
      "source": [
        "student_number = int(input(\"How many students are you going to enter? \"))\n",
        "students = dict()\n",
        "for i in range(student_number):\n",
        "    student_name = input(\"What is the students name? \")\n",
        "    student_grades = input(f\"What is {student_name}'s grades? \")\n",
        "    student_grades = map(float, student_grades.split())\n",
        "    students[student_name] = student_grades\n",
        "\n",
        "wanted_student = input(\"Whose grades do you want to see? \")\n",
        "\n",
        "sum_of_grades = sum(students[wanted_student])\n",
        "average_grade = sum_of_grades / len(students[wanted_student]) \n",
        "print(average_grade)"
      ],
      "metadata": {
        "id": "UiF-4DnRgjhv"
      },
      "execution_count": null,
      "outputs": []
    },
    {
      "cell_type": "markdown",
      "source": [
        "# Find the Runner up score\n",
        "\n",
        "#   Sample input:\n",
        "#       3\n",
        "#       2\n",
        "#       3\n",
        "#       6\n",
        "\n",
        "#   Sample output:\n",
        "#       3"
      ],
      "metadata": {
        "id": "O09QCtOFik4Z"
      }
    },
    {
      "cell_type": "code",
      "source": [
        "number= int(input(\"how many number are you going to enter? \"))\n",
        "number_list= []\n",
        "for i in range(number):\n",
        "  current_num= int(input(\"enter your number :\"))\n",
        "  number_list.append(current_num)\n",
        "\n",
        "number_list.sort()\n",
        "print(number_list)\n",
        "print(number_list[-2])"
      ],
      "metadata": {
        "colab": {
          "base_uri": "https://localhost:8080/"
        },
        "id": "LZE5QQMpiI_q",
        "outputId": "296085d6-f021-43d8-8748-b1f441375eed"
      },
      "execution_count": 2,
      "outputs": [
        {
          "output_type": "stream",
          "name": "stdout",
          "text": [
            "how many number are you going to enter? 5\n",
            "enter your number :3\n",
            "enter your number :4\n",
            "enter your number :5\n",
            "enter your number :6\n",
            "enter your number :6\n",
            "[3, 4, 5, 6, 6]\n",
            "6\n"
          ]
        }
      ]
    },
    {
      "cell_type": "code",
      "source": [
        "number= int(input(\"how many number are you going to enter? \"))\n",
        "number_list= []\n",
        "for i in range(number):\n",
        "  current_num= int(input(\"enter your number :\"))\n",
        "  number_list.append(current_num)\n",
        "number_list=list(set(number_list))\n",
        "number_list.sort()\n",
        "print(number_list)\n",
        "print(number_list[-2])"
      ],
      "metadata": {
        "colab": {
          "base_uri": "https://localhost:8080/"
        },
        "id": "o53DdIdQiJCy",
        "outputId": "03984a74-c833-4cb1-b542-339cb865ac79"
      },
      "execution_count": 3,
      "outputs": [
        {
          "output_type": "stream",
          "name": "stdout",
          "text": [
            "how many number are you going to enter? 5\n",
            "enter your number :6\n",
            "enter your number :6\n",
            "enter your number :5\n",
            "enter your number :3\n",
            "enter your number :4\n",
            "[3, 4, 5, 6]\n",
            "5\n"
          ]
        }
      ]
    },
    {
      "cell_type": "code",
      "source": [
        "number= list(map(int,input(\"enter number: \").split()))\n",
        "number= sorted(set(number))\n",
        "print(number[-2])"
      ],
      "metadata": {
        "colab": {
          "base_uri": "https://localhost:8080/"
        },
        "id": "HCf3MNFsiJFz",
        "outputId": "09404f2d-80f2-41fe-a867-02e5b4c51438"
      },
      "execution_count": 7,
      "outputs": [
        {
          "output_type": "stream",
          "name": "stdout",
          "text": [
            "enter number: 5 6 6 3 2\n",
            "5\n"
          ]
        }
      ]
    },
    {
      "cell_type": "code",
      "source": [
        "string= \"gülcan\"\n",
        "sorted(string)"
      ],
      "metadata": {
        "colab": {
          "base_uri": "https://localhost:8080/"
        },
        "id": "_u1GdtVHiJJM",
        "outputId": "9098e535-4ee3-49ba-fa8e-2eda06b60392"
      },
      "execution_count": 10,
      "outputs": [
        {
          "output_type": "execute_result",
          "data": {
            "text/plain": [
              "['a', 'c', 'g', 'l', 'n', 'ü']"
            ]
          },
          "metadata": {},
          "execution_count": 10
        }
      ]
    },
    {
      "cell_type": "code",
      "source": [
        "print(\"\".join(sorted(string)))"
      ],
      "metadata": {
        "colab": {
          "base_uri": "https://localhost:8080/"
        },
        "id": "qO92wSlUiJME",
        "outputId": "3dc3dc0c-3f71-43a5-f3a5-c9ae942541b7"
      },
      "execution_count": 11,
      "outputs": [
        {
          "output_type": "stream",
          "name": "stdout",
          "text": [
            "acglnü\n"
          ]
        }
      ]
    },
    {
      "cell_type": "markdown",
      "source": [
        "# reverse every string in a list\n",
        "\n",
        "#   Sample input:\n",
        "#       'clarusway, omer mentor'\n",
        "\n",
        "#   Sample Output:\n",
        "#       ['yawsuralc', 'rotnem remo']"
      ],
      "metadata": {
        "id": "mRW6KXaemKcl"
      }
    },
    {
      "cell_type": "code",
      "source": [
        "strs= input(\"enter your strings as comma seperated\")\n",
        "strs=strs.split(\", \")\n",
        "for i in range(len(strs)):\n",
        "  strs[i]= strs[i][::-1]\n",
        "\n",
        "print(strs)"
      ],
      "metadata": {
        "colab": {
          "base_uri": "https://localhost:8080/"
        },
        "id": "qo0CLRZ_iJYk",
        "outputId": "0c8cffd2-200f-4926-b2d3-7118c09d63fe"
      },
      "execution_count": 14,
      "outputs": [
        {
          "output_type": "stream",
          "name": "stdout",
          "text": [
            "enter your strings as comma seperatedgülcan ,emre\n",
            "['erme, naclüg']\n"
          ]
        }
      ]
    },
    {
      "cell_type": "code",
      "source": [
        "strs= input(\"enter your strings as comma seperated \").split(\", \")\n",
        "reversed_strs=[i[::-1]for i in strs]\n",
        "reversed_strs"
      ],
      "metadata": {
        "colab": {
          "base_uri": "https://localhost:8080/"
        },
        "id": "S3Ham_zhmzy4",
        "outputId": "f4161106-2aca-4c64-e88d-f1cbaa31ec8c"
      },
      "execution_count": 16,
      "outputs": [
        {
          "name": "stdout",
          "output_type": "stream",
          "text": [
            "enter your strings as comma seperated ipek , bahadır\n"
          ]
        },
        {
          "output_type": "execute_result",
          "data": {
            "text/plain": [
              "[' kepi', 'rıdahab']"
            ]
          },
          "metadata": {},
          "execution_count": 16
        }
      ]
    },
    {
      "cell_type": "code",
      "source": [
        "student_number = int(input(\"How many students are you going to enter? \"))\n",
        "students = dict()\n",
        "for i in range(student_number):\n",
        "    student_info = input(\"What is the students name and his grades? \")\n",
        "    student_info = student_info.split() \n",
        "    student_name = student_info[0]\n",
        "    students[student_name] = student_info[1:]\n",
        "\n",
        "sum_of_grades = 0\n",
        "for grade in students.values():\n",
        "  print(grade[1])\n",
        "  sum_of_grades+=float(grade[1])\n",
        "  print(sum_of_grades/2))                #2.yazılıların ortalamasını aldık"
      ],
      "metadata": {
        "colab": {
          "base_uri": "https://localhost:8080/"
        },
        "id": "6IHgKm0zm3O3",
        "outputId": "0edcafa5-d5de-407c-eac9-c5b1e27ef84b"
      },
      "execution_count": 22,
      "outputs": [
        {
          "output_type": "stream",
          "name": "stdout",
          "text": [
            "How many students are you going to enter? 2 \n",
            "What is the students name and his grades? a 5 6 7 \n",
            "What is the students name and his grades? b 9 10 11\n",
            "6\n",
            "3.0\n",
            "10\n",
            "8.0\n"
          ]
        }
      ]
    }
  ]
}