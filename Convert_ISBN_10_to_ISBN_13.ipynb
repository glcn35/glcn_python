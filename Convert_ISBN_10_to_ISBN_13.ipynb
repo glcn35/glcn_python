{
  "nbformat": 4,
  "nbformat_minor": 0,
  "metadata": {
    "colab": {
      "name": "Convert ISBN-10 to ISBN-13.ipynb",
      "provenance": [],
      "collapsed_sections": [],
      "authorship_tag": "ABX9TyOSS37gVcg0TZO2KyjW2JCw",
      "include_colab_link": true
    },
    "kernelspec": {
      "name": "python3",
      "display_name": "Python 3"
    },
    "language_info": {
      "name": "python"
    }
  },
  "cells": [
    {
      "cell_type": "markdown",
      "metadata": {
        "id": "view-in-github",
        "colab_type": "text"
      },
      "source": [
        "<a href=\"https://colab.research.google.com/github/glcn35/glcn_python/blob/main/Convert_ISBN_10_to_ISBN_13.ipynb\" target=\"_parent\"><img src=\"https://colab.research.google.com/assets/colab-badge.svg\" alt=\"Open In Colab\"/></a>"
      ]
    },
    {
      "cell_type": "markdown",
      "source": [
        "Task\n",
        "ISBN stands for International Standard Book Number.\n",
        "\n",
        "For more than thirty years, ISBNs were 10 digits long. On January 1, 2007 the ISBN system switched to a 13-digit format. Now all ISBNs are 13-digits long. Actually, there is not a huge difference between them. You can convert a 10-digit ISBN to a 13-digit ISBN by adding the prefix number (978) to the beginning and then recalculating the last, check digit using a fairly simple method.\n",
        "\n",
        "Method\n",
        "Take the ISBN (\"1-85326-158-0\").\n",
        "Remove the last character, which can be a number or \"X\".\n",
        "Add the prefix number (978) and a hyphen (-) to the beginning.\n",
        "Take the 12 digits, then alternately multiply each digit from left to right by 1 or 3.\n",
        "Add up all 12 numbers you got.\n",
        "Take the number and perform a modulo 10 division.\n",
        "If the result is 0, the check digit is 0. If it isn't 0, then subtract the result from 10. In this case, that is the check digit.\n",
        "Add the check digit to the end of the result from step 3.\n",
        "Return the 13-digit ISBN in the appropriate format:\n",
        "\"prefix number - original ISBN except the last character - check digit\"\n",
        "\"978 - 1 - 85326 - 158 - 9\""
      ],
      "metadata": {
        "id": "ngdwB89wl05w"
      }
    },
    {
      "cell_type": "code",
      "source": [
        "def isbn_converter(isbn):\n",
        "  isbn =isbn.split(\"-\")\n",
        "  isbn.pop(-1)\n",
        "  isbn.insert(0, \"978\")\n",
        "  a=\"\".join(isbn)\n",
        "  top= 0\n",
        "  for i in range(len(a)):\n",
        "    if i%2:\n",
        "      top +=int(a[i])*3\n",
        "    else:\n",
        "      top +=int(a[i])\n",
        "  if top==0:\n",
        "     isbn.append(str(0))\n",
        "  else:\n",
        "    isbn.append(str(10- (top%10)))\n",
        "  return \"-\".join(isbn)"
      ],
      "metadata": {
        "id": "w8FSdjXNl92O"
      },
      "execution_count": 47,
      "outputs": []
    },
    {
      "cell_type": "code",
      "source": [
        "isbn_converter(\"364-229-217-6\")"
      ],
      "metadata": {
        "colab": {
          "base_uri": "https://localhost:8080/",
          "height": 36
        },
        "id": "pxzsLL03cMO4",
        "outputId": "e5472bc2-5b10-407d-d932-48c760aeffed"
      },
      "execution_count": 48,
      "outputs": [
        {
          "output_type": "execute_result",
          "data": {
            "application/vnd.google.colaboratory.intrinsic+json": {
              "type": "string"
            },
            "text/plain": [
              "'978-364-229-217-10'"
            ]
          },
          "metadata": {},
          "execution_count": 48
        }
      ]
    },
    {
      "cell_type": "code",
      "source": [
        "isbn=\"364-229-217-6\"\n",
        "isbn =isbn.split(\"-\")\n"
      ],
      "metadata": {
        "id": "1Q-bmVmgcMRY"
      },
      "execution_count": 49,
      "outputs": []
    },
    {
      "cell_type": "code",
      "source": [
        "isbn"
      ],
      "metadata": {
        "colab": {
          "base_uri": "https://localhost:8080/"
        },
        "id": "vWGt7WxccMUw",
        "outputId": "50de31e4-7a87-4b04-b28f-ab3648614bee"
      },
      "execution_count": 50,
      "outputs": [
        {
          "output_type": "execute_result",
          "data": {
            "text/plain": [
              "['364', '229', '217', '6']"
            ]
          },
          "metadata": {},
          "execution_count": 50
        }
      ]
    },
    {
      "cell_type": "code",
      "source": [
        "isbn.pop(-1)"
      ],
      "metadata": {
        "colab": {
          "base_uri": "https://localhost:8080/",
          "height": 36
        },
        "id": "5Pzkwwv1dRcM",
        "outputId": "a8b5f896-bc05-42b7-9d4a-6d59956217c4"
      },
      "execution_count": 51,
      "outputs": [
        {
          "output_type": "execute_result",
          "data": {
            "application/vnd.google.colaboratory.intrinsic+json": {
              "type": "string"
            },
            "text/plain": [
              "'6'"
            ]
          },
          "metadata": {},
          "execution_count": 51
        }
      ]
    },
    {
      "cell_type": "code",
      "source": [
        "isbn.insert(0, \"978\")"
      ],
      "metadata": {
        "id": "c9lx9IrFd7op"
      },
      "execution_count": 52,
      "outputs": []
    },
    {
      "cell_type": "code",
      "source": [
        "a=\"\".join(isbn)"
      ],
      "metadata": {
        "id": "ty4pgPDIesCl"
      },
      "execution_count": 53,
      "outputs": []
    },
    {
      "cell_type": "code",
      "source": [
        "a=\"\".join(isbn)\n",
        "top= 0\n",
        "for i in range(len(a)):\n",
        "  if i%2:\n",
        "    top +=int(a[i])*3\n",
        "  else:\n",
        "    top +=int(a[i])\n",
        "    print(top)\n",
        "if top%10 ==0:\n",
        "  isbn.append(str(0))\n",
        "else:\n",
        "  isbn.append(str(10- (top%10)))\n",
        "\n",
        "print(isbn)"
      ],
      "metadata": {
        "colab": {
          "base_uri": "https://localhost:8080/"
        },
        "id": "M8zLuWUmesE0",
        "outputId": "2011d678-b140-43c3-dfd2-cd470c557717"
      },
      "execution_count": 55,
      "outputs": [
        {
          "output_type": "stream",
          "name": "stdout",
          "text": [
            "9\n",
            "38\n",
            "53\n",
            "67\n",
            "82\n",
            "89\n",
            "111\n",
            "114\n",
            "['978', '364', '229', '217', '110', '6']\n"
          ]
        }
      ]
    },
    {
      "cell_type": "code",
      "source": [
        "\"-\".join(isbn)"
      ],
      "metadata": {
        "colab": {
          "base_uri": "https://localhost:8080/",
          "height": 36
        },
        "id": "08wYuXuNesHW",
        "outputId": "bc4b3139-1413-4030-cbe3-712e6df86ed2"
      },
      "execution_count": 56,
      "outputs": [
        {
          "output_type": "execute_result",
          "data": {
            "application/vnd.google.colaboratory.intrinsic+json": {
              "type": "string"
            },
            "text/plain": [
              "'978-364-229-217-110-6'"
            ]
          },
          "metadata": {},
          "execution_count": 56
        }
      ]
    }
  ]
}