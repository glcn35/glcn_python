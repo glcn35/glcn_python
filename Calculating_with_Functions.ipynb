{
  "nbformat": 4,
  "nbformat_minor": 0,
  "metadata": {
    "colab": {
      "name": "Calculating with Functions.ipynb",
      "provenance": [],
      "collapsed_sections": [],
      "authorship_tag": "ABX9TyM/e96il++vUdZx0qbog/nP",
      "include_colab_link": true
    },
    "kernelspec": {
      "name": "python3",
      "display_name": "Python 3"
    },
    "language_info": {
      "name": "python"
    }
  },
  "cells": [
    {
      "cell_type": "markdown",
      "metadata": {
        "id": "view-in-github",
        "colab_type": "text"
      },
      "source": [
        "<a href=\"https://colab.research.google.com/github/glcn35/glcn_python/blob/main/Calculating_with_Functions.ipynb\" target=\"_parent\"><img src=\"https://colab.research.google.com/assets/colab-badge.svg\" alt=\"Open In Colab\"/></a>"
      ]
    },
    {
      "cell_type": "markdown",
      "source": [
        "This time we want to write calculations using functions and get the results. Let's have a look at some examples:\n",
        "\n",
        "seven(times(five())) # must return 35\n",
        "four(plus(nine())) # must return 13\n",
        "eight(minus(three())) # must return 5\n",
        "six(divided_by(two())) # must return 3\n",
        "Requirements:\n",
        "\n",
        "There must be a function for each number from 0 (\"zero\") to 9 (\"nine\")\n",
        "There must be a function for each of the following mathematical operations: plus, minus, times, divided_by\n",
        "Each calculation consist of exactly one operation and two numbers\n",
        "The most outer function represents the left operand, the most inner function represents the right operand\n",
        "Division should be integer division. For example, this should return 2, not 2.666666...:\n",
        "\n",
        "Bu sefer fonksiyonları kullanarak hesaplamalar yazmak ve sonuçları almak istiyoruz. Bazı örneklere bir göz atalım:\n",
        "\n",
        "yedi(kez(beş())) # 35 döndürmelidir\n",
        "four(plus(dokuz())) # 13 döndürmelidir\n",
        "sekiz(eksi(üç())) # 5 döndürmelidir\n",
        "altı(divided_by(two())) # 3 döndürmelidir\n",
        "Gereksinimler:\n",
        "\n",
        "0 (\"sıfır\") ile 9 (\"dokuz\") arasındaki her sayı için bir işlev olmalıdır\n",
        "Aşağıdaki matematiksel işlemlerin her biri için bir fonksiyon olmalıdır: artı, eksi, zamanlar, bölü_en\n",
        "Her hesaplama tam olarak bir işlem ve iki sayıdan oluşur\n",
        "En dıştaki işlev sol işleneni, en içteki işlev sağ işleneni temsil eder.\n",
        "Bölme tamsayılı bölme olmalıdır. Örneğin, bu 2.666666 değil, 2 döndürmelidir...:\n"
      ],
      "metadata": {
        "id": "zs0QDobMs7bO"
      }
    },
    {
      "cell_type": "code",
      "source": [
        "test= \"eight(divided_by(three()))\""
      ],
      "metadata": {
        "id": "YJDtb5uHtBQO"
      },
      "execution_count": 58,
      "outputs": []
    },
    {
      "cell_type": "code",
      "source": [
        "test= test.split(\"(\")\n",
        "test"
      ],
      "metadata": {
        "id": "qE0lHC9btBXc",
        "colab": {
          "base_uri": "https://localhost:8080/"
        },
        "outputId": "905733ee-e2a5-4bb3-ddc6-89615ecc4c30"
      },
      "execution_count": 59,
      "outputs": [
        {
          "output_type": "execute_result",
          "data": {
            "text/plain": [
              "['eight', 'divided_by', 'three', ')))']"
            ]
          },
          "metadata": {},
          "execution_count": 59
        }
      ]
    },
    {
      "cell_type": "code",
      "source": [
        "test =\"six(divided_by(two()))\"\n"
      ],
      "metadata": {
        "id": "_-oadCmX6ajE"
      },
      "execution_count": 61,
      "outputs": []
    },
    {
      "cell_type": "code",
      "source": [
        "test.split(\"(\")"
      ],
      "metadata": {
        "colab": {
          "base_uri": "https://localhost:8080/"
        },
        "id": "MW6iuxFr1jK6",
        "outputId": "60567f38-c32d-4c41-b6ae-3de197807a5f"
      },
      "execution_count": 62,
      "outputs": [
        {
          "output_type": "execute_result",
          "data": {
            "text/plain": [
              "['six', 'divided_by', 'two', ')))']"
            ]
          },
          "metadata": {},
          "execution_count": 62
        }
      ]
    },
    {
      "cell_type": "code",
      "source": [
        "a,b,c=test[0],test[1],test[2]"
      ],
      "metadata": {
        "id": "1fHRtjyttBbI"
      },
      "execution_count": 67,
      "outputs": []
    },
    {
      "cell_type": "code",
      "source": [
        "sayılar={\"zero\":0,\"one\":1,\"two\":2,\"three\":3,\"four\":4,\"five\":5,\"six\":6,\"seven\":7,\"eight\":8,\"nine\":9,\n",
        "         \"times\":\"*\",\"plus\":\"+\",\"minus\":\"-\",\"divided_by\":\"/\",}"
      ],
      "metadata": {
        "id": "f7lQrO8jtBqm"
      },
      "execution_count": 16,
      "outputs": []
    },
    {
      "cell_type": "code",
      "source": [
        "sayılar[\"zero\"]\n"
      ],
      "metadata": {
        "colab": {
          "base_uri": "https://localhost:8080/"
        },
        "id": "0kE2qL2LyjqM",
        "outputId": "537159e0-8d24-4328-d3ba-b4ff763c8293"
      },
      "execution_count": 70,
      "outputs": [
        {
          "output_type": "execute_result",
          "data": {
            "text/plain": [
              "0"
            ]
          },
          "metadata": {},
          "execution_count": 70
        }
      ]
    },
    {
      "cell_type": "code",
      "source": [
        "sayılar[b]"
      ],
      "metadata": {
        "colab": {
          "base_uri": "https://localhost:8080/"
        },
        "id": "4Gpu4X7Kzoo3",
        "outputId": "88913b51-999c-4e70-b801-f40765dd4e46"
      },
      "execution_count": 23,
      "outputs": [
        {
          "output_type": "execute_result",
          "data": {
            "text/plain": [
              "8"
            ]
          },
          "metadata": {},
          "execution_count": 23
        }
      ]
    },
    {
      "cell_type": "code",
      "source": [
        "sayılar[a[0]]"
      ],
      "metadata": {
        "colab": {
          "base_uri": "https://localhost:8080/"
        },
        "id": "VsJoeOcKyj38",
        "outputId": "bcdd545e-8754-4150-ee70-1c2b73ea5c5c"
      },
      "execution_count": 19,
      "outputs": [
        {
          "output_type": "execute_result",
          "data": {
            "text/plain": [
              "8"
            ]
          },
          "metadata": {},
          "execution_count": 19
        }
      ]
    },
    {
      "cell_type": "code",
      "source": [
        "sayılar[a[1]]"
      ],
      "metadata": {
        "colab": {
          "base_uri": "https://localhost:8080/",
          "height": 36
        },
        "id": "oa95_rhRyj85",
        "outputId": "34c98a25-c13b-492b-d063-41130f969a7e"
      },
      "execution_count": 20,
      "outputs": [
        {
          "output_type": "execute_result",
          "data": {
            "application/vnd.google.colaboratory.intrinsic+json": {
              "type": "string"
            },
            "text/plain": [
              "'/'"
            ]
          },
          "metadata": {},
          "execution_count": 20
        }
      ]
    },
    {
      "cell_type": "code",
      "source": [
        "type(sayılar[a[2]])"
      ],
      "metadata": {
        "colab": {
          "base_uri": "https://localhost:8080/"
        },
        "id": "LYLnLT47ykBH",
        "outputId": "7631850a-03ec-4c24-ca6e-0c628094fe85"
      },
      "execution_count": 22,
      "outputs": [
        {
          "output_type": "execute_result",
          "data": {
            "text/plain": [
              "int"
            ]
          },
          "metadata": {},
          "execution_count": 22
        }
      ]
    },
    {
      "cell_type": "code",
      "source": [
        "def zero(test):\n",
        "    test=test.split(\"(\")\n",
        "    a,b,c=test[0],test[1],test[2]\n",
        "    sayılar={\"zero\":0,\"one\":1,\"two\":2,\"three\":3,\"four\":4,\n",
        "             \"five\":5,\"six\":6,\"seven\":7,\"eight\":8,\"nine\":9}\n",
        "    if b==\"plus\":\n",
        "      return sayılar[a]+sayılar[c]\n",
        "    elif b==\"minus\":\n",
        "      return sayılar[a]-sayılar[c]\n",
        "    elif b==\"times\":\n",
        "      return sayılar[a]*sayılar[c]\n",
        "    elif b==\"divided_by\":\n",
        "      return sayılar[a]//sayılar[c]\n",
        "    else:\n",
        "       return \"tekrar deneyiniz\""
      ],
      "metadata": {
        "id": "PTFVGHLtykFS"
      },
      "execution_count": 63,
      "outputs": []
    },
    {
      "cell_type": "code",
      "source": [
        "çevir(\"six(divided_by(two()))\")"
      ],
      "metadata": {
        "colab": {
          "base_uri": "https://localhost:8080/"
        },
        "id": "4cW2pnS0BAQ7",
        "outputId": "4abdc0a8-3657-4309-f428-20d6993b16ce"
      },
      "execution_count": 68,
      "outputs": [
        {
          "output_type": "execute_result",
          "data": {
            "text/plain": [
              "3"
            ]
          },
          "metadata": {},
          "execution_count": 68
        }
      ]
    },
    {
      "cell_type": "code",
      "source": [
        "çevir(\"eight(minus(three()))\")"
      ],
      "metadata": {
        "colab": {
          "base_uri": "https://localhost:8080/"
        },
        "id": "q5aVsgHVBAT8",
        "outputId": "47045e64-9114-483f-d4be-ee811df0a274"
      },
      "execution_count": 69,
      "outputs": [
        {
          "output_type": "execute_result",
          "data": {
            "text/plain": [
              "5"
            ]
          },
          "metadata": {},
          "execution_count": 69
        }
      ]
    },
    {
      "cell_type": "code",
      "source": [
        "çevir(\"seven(times(five()))\")"
      ],
      "metadata": {
        "colab": {
          "base_uri": "https://localhost:8080/"
        },
        "id": "9y2aoolxBWvu",
        "outputId": "2d9d601c-a368-48f7-ef3e-0c25c8d9c84b"
      },
      "execution_count": 66,
      "outputs": [
        {
          "output_type": "execute_result",
          "data": {
            "text/plain": [
              "35"
            ]
          },
          "metadata": {},
          "execution_count": 66
        }
      ]
    },
    {
      "cell_type": "code",
      "source": [
        ""
      ],
      "metadata": {
        "id": "E7SB-rAVhhcr"
      },
      "execution_count": null,
      "outputs": []
    },
    {
      "cell_type": "markdown",
      "source": [
        "Günün sorusu: Write a Python function to find the second biggest number in a list"
      ],
      "metadata": {
        "id": "nVGmxtKchh1R"
      }
    },
    {
      "cell_type": "code",
      "source": [
        "def big_2(sayılar):\n",
        " return  sorted(set(sayılar))[-2]\n",
        "  "
      ],
      "metadata": {
        "id": "-zxg2mVNhmOf"
      },
      "execution_count": 84,
      "outputs": []
    },
    {
      "cell_type": "code",
      "source": [
        "big_2([-2,-2, 4, 5, 6, 7, 8 ,8, 8])"
      ],
      "metadata": {
        "colab": {
          "base_uri": "https://localhost:8080/"
        },
        "id": "39HHM0H4h4vx",
        "outputId": "339bb5de-9ee3-42d7-dfb6-6f101b5c7e52"
      },
      "execution_count": 85,
      "outputs": [
        {
          "output_type": "execute_result",
          "data": {
            "text/plain": [
              "7"
            ]
          },
          "metadata": {},
          "execution_count": 85
        }
      ]
    },
    {
      "cell_type": "code",
      "source": [
        "a= \"ipek\" \n",
        "b=\"zülal\"\n",
        "print(a *100)"
      ],
      "metadata": {
        "colab": {
          "base_uri": "https://localhost:8080/"
        },
        "id": "qAUJvSOlrUbU",
        "outputId": "2b5f1bd7-59bb-4150-95c1-07effa3b5c32"
      },
      "execution_count": 94,
      "outputs": [
        {
          "output_type": "stream",
          "name": "stdout",
          "text": [
            "ipekipekipekipekipekipekipekipekipekipekipekipekipekipekipekipekipekipekipekipekipekipekipekipekipekipekipekipekipekipekipekipekipekipekipekipekipekipekipekipekipekipekipekipekipekipekipekipekipekipekipekipekipekipekipekipekipekipekipekipekipekipekipekipekipekipekipekipekipekipekipekipekipekipekipekipekipekipekipekipekipekipekipekipekipekipekipekipekipekipekipekipekipekipekipekipekipekipekipekipek\n"
          ]
        }
      ]
    },
    {
      "cell_type": "code",
      "source": [
        "\n",
        "c=a+\"  \"+b  \n",
        "print(c*100) "
      ],
      "metadata": {
        "colab": {
          "base_uri": "https://localhost:8080/"
        },
        "id": "AhZYO7Icrtfc",
        "outputId": "42cbfe2d-c943-4c59-d750-6a838b56ab27"
      },
      "execution_count": 98,
      "outputs": [
        {
          "output_type": "stream",
          "name": "stdout",
          "text": [
            "ipek  zülalipek  zülalipek  zülalipek  zülalipek  zülalipek  zülalipek  zülalipek  zülalipek  zülalipek  zülalipek  zülalipek  zülalipek  zülalipek  zülalipek  zülalipek  zülalipek  zülalipek  zülalipek  zülalipek  zülalipek  zülalipek  zülalipek  zülalipek  zülalipek  zülalipek  zülalipek  zülalipek  zülalipek  zülalipek  zülalipek  zülalipek  zülalipek  zülalipek  zülalipek  zülalipek  zülalipek  zülalipek  zülalipek  zülalipek  zülalipek  zülalipek  zülalipek  zülalipek  zülalipek  zülalipek  zülalipek  zülalipek  zülalipek  zülalipek  zülalipek  zülalipek  zülalipek  zülalipek  zülalipek  zülalipek  zülalipek  zülalipek  zülalipek  zülalipek  zülalipek  zülalipek  zülalipek  zülalipek  zülalipek  zülalipek  zülalipek  zülalipek  zülalipek  zülalipek  zülalipek  zülalipek  zülalipek  zülalipek  zülalipek  zülalipek  zülalipek  zülalipek  zülalipek  zülalipek  zülalipek  zülalipek  zülalipek  zülalipek  zülalipek  zülalipek  zülalipek  zülalipek  zülalipek  zülalipek  zülalipek  zülalipek  zülalipek  zülalipek  zülalipek  zülalipek  zülalipek  zülalipek  zülalipek  zülalipek  zülal\n"
          ]
        }
      ]
    }
  ]
}