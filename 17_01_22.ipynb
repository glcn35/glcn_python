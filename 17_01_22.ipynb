{
  "nbformat": 4,
  "nbformat_minor": 0,
  "metadata": {
    "colab": {
      "name": "17.01.22.ipynb",
      "provenance": [],
      "collapsed_sections": [],
      "authorship_tag": "ABX9TyP6E9ZyMvZSg1B75V6+BvLT",
      "include_colab_link": true
    },
    "kernelspec": {
      "name": "python3",
      "display_name": "Python 3"
    },
    "language_info": {
      "name": "python"
    }
  },
  "cells": [
    {
      "cell_type": "markdown",
      "metadata": {
        "id": "view-in-github",
        "colab_type": "text"
      },
      "source": [
        "<a href=\"https://colab.research.google.com/github/glcn35/glcn_python/blob/main/17_01_22.ipynb\" target=\"_parent\"><img src=\"https://colab.research.google.com/assets/colab-badge.svg\" alt=\"Open In Colab\"/></a>"
      ]
    },
    {
      "cell_type": "markdown",
      "source": [
        "Günün sorusu: Write a function that takes a single integer as input and returns the sum of the integers from zero to the input parameter.\n",
        "The function should return 0 if a non-integer is passed in.\n",
        "\n",
        "Günün sorusu: Girdi olarak tek bir tamsayı alan ve sıfırdan gelen tam sayıların toplamını girdi parametresine döndüren bir fonksiyon yazın.\n",
        "Tamsayı olmayan bir değer girilirse işlev 0 döndürmelidir."
      ],
      "metadata": {
        "id": "aAJelgDhD_TQ"
      }
    },
    {
      "cell_type": "code",
      "source": [
        "print(sum(range(-7,0)))"
      ],
      "metadata": {
        "colab": {
          "base_uri": "https://localhost:8080/"
        },
        "id": "crrZ-qa_EFPn",
        "outputId": "019a96f6-89e3-4468-ddcf-ec736045a8c7"
      },
      "execution_count": 34,
      "outputs": [
        {
          "output_type": "stream",
          "name": "stdout",
          "text": [
            "-28\n"
          ]
        }
      ]
    },
    {
      "cell_type": "code",
      "source": [
        "def topla_gel(num):\n",
        "    if  type(num) == int and num <= 0:\n",
        "       print(sum(range(num,0)))\n",
        "    elif type(num) == int and num > 0:\n",
        "        print(sum(range(0,num+1)))\n",
        "    else:\n",
        "      print(0)\n",
        "\n",
        "topla_gel(10)\n",
        "topla_gel(55.6)\n",
        "topla_gel(-6)"
      ],
      "metadata": {
        "colab": {
          "base_uri": "https://localhost:8080/"
        },
        "id": "mrBzpE06EFUa",
        "outputId": "cd030b55-2adc-4458-80c6-547ead0bc269"
      },
      "execution_count": 32,
      "outputs": [
        {
          "output_type": "stream",
          "name": "stdout",
          "text": [
            "55\n",
            "0\n",
            "-21\n"
          ]
        }
      ]
    },
    {
      "cell_type": "code",
      "source": [
        "topla_gel(-10)"
      ],
      "metadata": {
        "colab": {
          "base_uri": "https://localhost:8080/"
        },
        "id": "kLKd1DUmEF3g",
        "outputId": "97eb763f-07e1-44cd-9f98-65b067252154"
      },
      "execution_count": 20,
      "outputs": [
        {
          "output_type": "stream",
          "name": "stdout",
          "text": [
            "-55\n"
          ]
        }
      ]
    },
    {
      "cell_type": "code",
      "source": [
        "topla_gel(0)"
      ],
      "metadata": {
        "colab": {
          "base_uri": "https://localhost:8080/"
        },
        "id": "FotDVIu4FOFu",
        "outputId": "3b533b9b-e923-422f-9fa2-0a0cc840de18"
      },
      "execution_count": 27,
      "outputs": [
        {
          "output_type": "stream",
          "name": "stdout",
          "text": [
            "0\n"
          ]
        }
      ]
    },
    {
      "cell_type": "code",
      "source": [
        "topla_gel(20)"
      ],
      "metadata": {
        "colab": {
          "base_uri": "https://localhost:8080/"
        },
        "id": "hxRlR24TFOId",
        "outputId": "83bc5d92-d496-4641-c1a8-ea3c7d645485"
      },
      "execution_count": 22,
      "outputs": [
        {
          "output_type": "stream",
          "name": "stdout",
          "text": [
            "210\n"
          ]
        }
      ]
    },
    {
      "cell_type": "code",
      "source": [
        "topla_gel(\"asd\")"
      ],
      "metadata": {
        "colab": {
          "base_uri": "https://localhost:8080/"
        },
        "id": "4DVKUjapFdxT",
        "outputId": "2cb84890-89d6-4b3a-f36f-b7c2e5d84830"
      },
      "execution_count": 31,
      "outputs": [
        {
          "output_type": "stream",
          "name": "stdout",
          "text": [
            "0\n"
          ]
        }
      ]
    },
    {
      "cell_type": "code",
      "source": [
        "topla_gel(5.4)"
      ],
      "metadata": {
        "colab": {
          "base_uri": "https://localhost:8080/"
        },
        "id": "YWwx5U8BGbqA",
        "outputId": "2bc164c9-6c6f-48cc-a5fe-13d149e00772"
      },
      "execution_count": 26,
      "outputs": [
        {
          "output_type": "stream",
          "name": "stdout",
          "text": [
            "0\n"
          ]
        }
      ]
    }
  ]
}