{
  "nbformat": 4,
  "nbformat_minor": 0,
  "metadata": {
    "colab": {
      "name": "Exercise_180_haming_distance.ipynb",
      "provenance": [],
      "collapsed_sections": [],
      "authorship_tag": "ABX9TyMRKZ3SlPjW2+UkvttCg85/",
      "include_colab_link": true
    },
    "kernelspec": {
      "name": "python3",
      "display_name": "Python 3"
    },
    "language_info": {
      "name": "python"
    }
  },
  "cells": [
    {
      "cell_type": "markdown",
      "metadata": {
        "id": "view-in-github",
        "colab_type": "text"
      },
      "source": [
        "<a href=\"https://colab.research.google.com/github/glcn35/glcn_python/blob/main/Exercise_180_haming_distance.ipynb\" target=\"_parent\"><img src=\"https://colab.research.google.com/assets/colab-badge.svg\" alt=\"Open In Colab\"/></a>"
      ]
    },
    {
      "cell_type": "markdown",
      "source": [
        "Exercise - 180\n",
        "Task\n",
        "The hamming distance between a pair of numbers is the number of binary bits that differ in their binary notation.\n",
        "Example\n",
        "For a = 25, b= 87, the result should be 4\n",
        "25: 00011001\n",
        "87: 01010111\n",
        "The hamming distance between these two would be 4 ( the 2nd, 5th, 6th, 7th bit ).\n",
        "Input/Output\n",
        "[input] integer a\n",
        "First Number. 1 <= a <= 2^20\n",
        "[input] integer b\n",
        "Second Number. 1 <= b <= 2^20\n",
        "[output] an integer\n",
        "Hamming Distance"
      ],
      "metadata": {
        "id": "3YaJPKNBX9rT"
      }
    },
    {
      "cell_type": "code",
      "source": [
        "def num(a,b):\n",
        "  a= bin(a).lstrip(\"0b\").rjust(8,\"0\")\n",
        "  b= bin(b).lstrip(\"0b\").rjust(8,\"0\")\n",
        "  count=0\n",
        "  for i,j in zip(a,b):\n",
        "     if i!=j:\n",
        "       count += 1\n",
        "  return count\n",
        "\n",
        "num(543,634)"
      ],
      "metadata": {
        "colab": {
          "base_uri": "https://localhost:8080/"
        },
        "id": "lKztKVDbHobo",
        "outputId": "f1f0284d-fc16-4795-e879-71c81b9ec8f5"
      },
      "execution_count": 2,
      "outputs": [
        {
          "output_type": "execute_result",
          "data": {
            "text/plain": [
              "4"
            ]
          },
          "metadata": {},
          "execution_count": 2
        }
      ]
    },
    {
      "cell_type": "code",
      "source": [
        "a=25  \n",
        "b=\"\"\n",
        "while a>0:\n",
        "  b+=str(a%2)\n",
        "  a=a//2\n",
        "b=b.ljust(8,\"0\")\n",
        "b=b[::-1]\n",
        "b"
      ],
      "metadata": {
        "colab": {
          "base_uri": "https://localhost:8080/",
          "height": 36
        },
        "id": "O79CaT4SZ_o5",
        "outputId": "fb1d8670-7472-43e0-a07e-93087c211d59"
      },
      "execution_count": null,
      "outputs": [
        {
          "output_type": "execute_result",
          "data": {
            "application/vnd.google.colaboratory.intrinsic+json": {
              "type": "string"
            },
            "text/plain": [
              "'00011001'"
            ]
          },
          "metadata": {},
          "execution_count": 30
        }
      ]
    },
    {
      "cell_type": "code",
      "source": [
        "def  dönüştürücü(a):\n",
        "  b=\"\"\n",
        "  while a>0:\n",
        "    b += str(a%2)\n",
        "    a=a//2\n",
        "  b=b.ljust(8,\"0\")\n",
        "  b= b[::-1]\n",
        "  return b\n",
        "dönüştürücü(25) "
      ],
      "metadata": {
        "colab": {
          "base_uri": "https://localhost:8080/",
          "height": 36
        },
        "id": "CVKv1sMsjo9L",
        "outputId": "cb6d0a0f-1bf2-4d45-f009-24fc0b6c0c80"
      },
      "execution_count": null,
      "outputs": [
        {
          "output_type": "execute_result",
          "data": {
            "application/vnd.google.colaboratory.intrinsic+json": {
              "type": "string"
            },
            "text/plain": [
              "'00011001'"
            ]
          },
          "metadata": {},
          "execution_count": 56
        }
      ]
    },
    {
      "cell_type": "code",
      "source": [
        "dönüştürücü(87)"
      ],
      "metadata": {
        "colab": {
          "base_uri": "https://localhost:8080/",
          "height": 36
        },
        "id": "QVF3pbiBmPMM",
        "outputId": "ce77e0ca-c2e9-4892-a4a0-0671fde965a0"
      },
      "execution_count": null,
      "outputs": [
        {
          "output_type": "execute_result",
          "data": {
            "application/vnd.google.colaboratory.intrinsic+json": {
              "type": "string"
            },
            "text/plain": [
              "'01010111'"
            ]
          },
          "metadata": {},
          "execution_count": 39
        }
      ]
    },
    {
      "cell_type": "code",
      "source": [
        "c=dönüştürücü(25)\n",
        "d=dönüştürücü(87)\n",
        "count=0\n",
        "for i,j in zip(c,d):\n",
        "  if i!=j:\n",
        "    count +=1\n",
        "print(count)\n"
      ],
      "metadata": {
        "colab": {
          "base_uri": "https://localhost:8080/"
        },
        "id": "NQi9NqaHmdSr",
        "outputId": "1bf92582-9818-414b-f4b3-ecaa5c7556ea"
      },
      "execution_count": null,
      "outputs": [
        {
          "output_type": "stream",
          "name": "stdout",
          "text": [
            "4\n"
          ]
        }
      ]
    },
    {
      "cell_type": "code",
      "source": [
        "def  dönüştürücü(a):\n",
        "  b=\"\"\n",
        "  while a>0:\n",
        "    b += str(a%2)\n",
        "    a=a//2\n",
        "  b=b.ljust(8,\"0\")\n",
        "  b= b[::-1]\n",
        "  return b\n",
        "count=0\n",
        "for i,j in zip(dönüştürücü(543),dönüştürücü(634)):\n",
        "  if i!=j:\n",
        "    count +=1\n",
        "print(count)"
      ],
      "metadata": {
        "colab": {
          "base_uri": "https://localhost:8080/"
        },
        "id": "a7f6j0gOrxGq",
        "outputId": "fd3553c7-ceec-435c-e80a-a20700fb9b24"
      },
      "execution_count": null,
      "outputs": [
        {
          "output_type": "stream",
          "name": "stdout",
          "text": [
            "4\n"
          ]
        }
      ]
    },
    {
      "cell_type": "code",
      "source": [
        ""
      ],
      "metadata": {
        "id": "7CVcp4IKuFdi"
      },
      "execution_count": null,
      "outputs": []
    }
  ]
}