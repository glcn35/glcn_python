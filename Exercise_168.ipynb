{
  "nbformat": 4,
  "nbformat_minor": 0,
  "metadata": {
    "colab": {
      "name": "Exercise_168.ipynb",
      "provenance": [],
      "collapsed_sections": [],
      "authorship_tag": "ABX9TyOPlFqbQeCJrtJvPDhl65yZ",
      "include_colab_link": true
    },
    "kernelspec": {
      "name": "python3",
      "display_name": "Python 3"
    },
    "language_info": {
      "name": "python"
    }
  },
  "cells": [
    {
      "cell_type": "markdown",
      "metadata": {
        "id": "view-in-github",
        "colab_type": "text"
      },
      "source": [
        "<a href=\"https://colab.research.google.com/github/glcn35/glcn_python/blob/main/Exercise_168.ipynb\" target=\"_parent\"><img src=\"https://colab.research.google.com/assets/colab-badge.svg\" alt=\"Open In Colab\"/></a>"
      ]
    },
    {
      "cell_type": "markdown",
      "source": [
        "  Exercise 168\n",
        "Given the triangle of consecutive odd numbers:\n",
        "           1\n",
        "        3     5\n",
        "    7     9    11\n",
        " 13    15    17    19\n",
        "21    23    25    27    29\n",
        "\n",
        "\n",
        "...\n",
        "Calculate the sum of the numbers in the nth row of this triangle (starting at index 1) e.g.: (Input --> Output)\n",
        "1 --> 1\n",
        "2 --> 3 + 5 = 8"
      ],
      "metadata": {
        "id": "Pzp6rVfER2FR"
      }
    },
    {
      "cell_type": "code",
      "source": [
        "def sum_odd(n) :\n",
        "  odd = sum([i for i in range(n)])\n",
        "  return sum([(2 * odd + 1) + (2 * i) for i in range(n)])"
      ],
      "metadata": {
        "id": "-2inn-7VR_XV"
      },
      "execution_count": 1,
      "outputs": []
    },
    {
      "cell_type": "code",
      "source": [
        "sum_odd(5)"
      ],
      "metadata": {
        "colab": {
          "base_uri": "https://localhost:8080/"
        },
        "id": "elRmy42cR_p3",
        "outputId": "08f9bb0d-5a77-4aba-b345-5eaa11d9833b"
      },
      "execution_count": 3,
      "outputs": [
        {
          "output_type": "execute_result",
          "data": {
            "text/plain": [
              "125"
            ]
          },
          "metadata": {},
          "execution_count": 3
        }
      ]
    }
  ]
}