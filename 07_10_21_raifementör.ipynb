{
  "nbformat": 4,
  "nbformat_minor": 0,
  "metadata": {
    "colab": {
      "name": "07_10_21_raifementör.ipynb",
      "provenance": [],
      "collapsed_sections": [],
      "authorship_tag": "ABX9TyOp+kYg0B8biOYFSiZ6u9ML",
      "include_colab_link": true
    },
    "kernelspec": {
      "name": "python3",
      "display_name": "Python 3"
    },
    "language_info": {
      "name": "python"
    }
  },
  "cells": [
    {
      "cell_type": "markdown",
      "metadata": {
        "id": "view-in-github",
        "colab_type": "text"
      },
      "source": [
        "<a href=\"https://colab.research.google.com/github/glcn35/glcn_python/blob/main/07_10_21_raifement%C3%B6r.ipynb\" target=\"_parent\"><img src=\"https://colab.research.google.com/assets/colab-badge.svg\" alt=\"Open In Colab\"/></a>"
      ]
    },
    {
      "cell_type": "code",
      "execution_count": null,
      "metadata": {
        "id": "MKhvqVszl2KK"
      },
      "outputs": [],
      "source": [
        ""
      ]
    },
    {
      "cell_type": "markdown",
      "source": [
        "1- Given two arrays of strings a1 and a2 return a sorted array r in lexicographical order of the strings of a1 which are substrings of strings of a2.\n",
        "\n",
        "Example 1:\n",
        "a1 = [\"arp\", \"live\", \"strong\"]\n",
        "\n",
        "a2 = [\"lively\", \"alive\", \"harp\", \"sharp\", \"armstrong\"]\n",
        "\n",
        "returns [\"arp\", \"live\", \"strong\"]\n",
        "\n",
        "Example 2:\n",
        "a1 = [\"tarp\", \"mice\", \"bull\"]\n",
        "\n",
        "a2 = [\"lively\", \"alive\", \"harp\", \"sharp\", \"armstrong\"]\n",
        "\n",
        "returns []\n",
        "\n",
        "Notes:\n",
        "Arrays are written in \"general\" notation. See \"Your Test Cases\" for examples in your language.\n",
        "\n",
        "In Shell bash a1 and a2 are strings. The return is a string where words are separated by commas.\n",
        "\n",
        "Beware: r must be without duplicates.[bağlantı metni](https://www.codewars.com/kata/550554fd08b86f84fe000a58)"
      ],
      "metadata": {
        "id": "jjINfqaQl7XL"
      }
    },
    {
      "cell_type": "code",
      "source": [
        "def in_array(a1,a2):\n",
        "    s=[]\n",
        "    for i in a1:\n",
        "        for j in a2:\n",
        "            if i in j and i not in s:\n",
        "                s.append(i)\n",
        "    return sorted(s)"
      ],
      "metadata": {
        "id": "aJg_neP_l_-Z"
      },
      "execution_count": 1,
      "outputs": []
    },
    {
      "cell_type": "code",
      "source": [
        "in_array([\"arp\", \"live\", \"strong\"],[\"lively\", \"alive\", \"harp\", \"sharp\", \"armstrong\"])"
      ],
      "metadata": {
        "colab": {
          "base_uri": "https://localhost:8080/"
        },
        "id": "thxP6vk7mAaw",
        "outputId": "1a64c12c-4b01-4c23-d1b9-ded7bb21c231"
      },
      "execution_count": 2,
      "outputs": [
        {
          "output_type": "execute_result",
          "data": {
            "text/plain": [
              "['arp', 'live', 'strong']"
            ]
          },
          "metadata": {},
          "execution_count": 2
        }
      ]
    },
    {
      "cell_type": "code",
      "source": [
        "a=[\"ar\"]\n",
        "b= [\"arp\", \"live\", \"starong\"]\n",
        "for i in a:\n",
        "    for j in b:\n",
        "        if i in j:\n",
        "            print(j)"
      ],
      "metadata": {
        "colab": {
          "base_uri": "https://localhost:8080/"
        },
        "id": "q-1NRvdCmAdY",
        "outputId": "e784c1ff-e72b-4067-b5d9-b587a5e5f6d7"
      },
      "execution_count": 3,
      "outputs": [
        {
          "output_type": "stream",
          "name": "stdout",
          "text": [
            "arp\n",
            "starong\n"
          ]
        }
      ]
    },
    {
      "cell_type": "markdown",
      "source": [
        "2- My friend John and I are members of the \"Fat to Fit Club (FFC)\". John is worried because each month a list with the weights of members is published and each month he is the last on the list which means he is the heaviest.\n",
        "\n",
        "I am the one who establishes the list so I told him: \"Don't worry any more, I will modify the order of the list\". It was decided to attribute a \"weight\" to numbers. The weight of a number will be from now on the sum of its digits.\n",
        "\n",
        "For example 99 will have \"weight\" 18, 100 will have \"weight\" 1 so in the list 100 will come before 99.\n",
        "\n",
        "Given a string with the weights of FFC members in normal order can you give this string ordered by \"weights\" of these numbers?\n",
        "\n",
        "Example:\n",
        "\"56 65 74 100 99 68 86 180 90\" ordered by numbers weights becomes: \n",
        "\n",
        "\"100 180 90 56 65 74 68 86 99\"\n",
        "When two numbers have the same \"weight\", let us class them as if they were strings (alphabetical ordering) and not numbers:\n",
        "\n",
        "180 is before 90 since, having the same \"weight\" (9), it comes before as a string.\n",
        "\n",
        "All numbers in the list are positive numbers and the list can be empty.\n",
        "\n",
        "Notes\n",
        "it may happen that the input string have leading, trailing whitespaces and more than a unique whitespace between two consecutive numbers\n",
        "For C: The result is freed.[bağlantı metni](https://www.codewars.com/kata/weight-for-weight/python)"
      ],
      "metadata": {
        "id": "z9gaEhF8mOpS"
      }
    },
    {
      "cell_type": "code",
      "source": [
        "def ağırlıklı_sırala(l):\n",
        "    l= l.split()\n",
        "    l1=[]\n",
        "    t=0\n",
        "    for i in l:\n",
        "        for j in i:\n",
        "            t+=int(j)\n",
        "        l1.append(t)\n",
        "        t=0\n",
        "    return \" \".join([v for k,v in sorted(zip(l1,l))])"
      ],
      "metadata": {
        "id": "6rMYIXyamLAD"
      },
      "execution_count": 4,
      "outputs": []
    },
    {
      "cell_type": "code",
      "source": [
        "ağırlıklı_sırala(\"56 65 74 100 99 68 86 180 90\")"
      ],
      "metadata": {
        "colab": {
          "base_uri": "https://localhost:8080/",
          "height": 36
        },
        "id": "mLmPhptymLEq",
        "outputId": "46dd5e97-b2d9-4754-8b51-4f1b086aede5"
      },
      "execution_count": 5,
      "outputs": [
        {
          "output_type": "execute_result",
          "data": {
            "application/vnd.google.colaboratory.intrinsic+json": {
              "type": "string"
            },
            "text/plain": [
              "'100 180 90 56 65 74 68 86 99'"
            ]
          },
          "metadata": {},
          "execution_count": 5
        }
      ]
    },
    {
      "cell_type": "markdown",
      "source": [
        "3- The goal of this exercise is to convert a string to a new string where each character in the new string is \"(\" if that character appears only once in the original string, or \")\" if that character appears more than once in the original string. Ignore capitalization when determining if a character is a duplicate.\n",
        "\n",
        "Examples\n",
        "\"din\"      =>  \"(((\"\n",
        "\"recede\"   =>  \"()()()\"\n",
        "\"Success\"  =>  \")())())\"\n",
        "\"(( @\"     =>  \"))((\" \n",
        "Notes\n",
        "\n",
        "Assertion messages may be unclear about what they display in some languages. If you read \"...It Should encode XXX\", the \"XXX\" is the expected result, not the input![bağlantı metni](https://www.codewars.com/kata/54b42f9314d9229fd6000d9c)"
      ],
      "metadata": {
        "id": "HDaLsXojsqOt"
      }
    },
    {
      "cell_type": "code",
      "source": [
        "def duplicate_encode(s):\n",
        "    s=s.lower()\n",
        "    y= \"\"\n",
        "    for i in s:\n",
        "        if s.count(i) == 1:\n",
        "            y+= '('\n",
        "        else:\n",
        "            y+= \")\"\n",
        "    return y"
      ],
      "metadata": {
        "id": "99YG9eo9mLI0"
      },
      "execution_count": 7,
      "outputs": []
    },
    {
      "cell_type": "code",
      "source": [
        "duplicate_encode(\"recede\")"
      ],
      "metadata": {
        "colab": {
          "base_uri": "https://localhost:8080/",
          "height": 36
        },
        "id": "m3P0PIw4stqc",
        "outputId": "708e34ce-84bc-40c9-83e2-6a082d99eea0"
      },
      "execution_count": 8,
      "outputs": [
        {
          "output_type": "execute_result",
          "data": {
            "application/vnd.google.colaboratory.intrinsic+json": {
              "type": "string"
            },
            "text/plain": [
              "'()()()'"
            ]
          },
          "metadata": {},
          "execution_count": 8
        }
      ]
    },
    {
      "cell_type": "code",
      "source": [
        "duplicate_encode(\"Success\")"
      ],
      "metadata": {
        "colab": {
          "base_uri": "https://localhost:8080/",
          "height": 36
        },
        "id": "Nn8YW313sttE",
        "outputId": "d35b6960-6d64-4a20-fe74-084613b7fc8f"
      },
      "execution_count": 9,
      "outputs": [
        {
          "output_type": "execute_result",
          "data": {
            "application/vnd.google.colaboratory.intrinsic+json": {
              "type": "string"
            },
            "text/plain": [
              "')())())'"
            ]
          },
          "metadata": {},
          "execution_count": 9
        }
      ]
    },
    {
      "cell_type": "code",
      "source": [
        "def duplicate_encode(s):\n",
        "    s=s.lower()\n",
        "    return ''.join(['(' if s.count(i)==1 else ')' for i in s])"
      ],
      "metadata": {
        "id": "88u7obNMstzh"
      },
      "execution_count": 10,
      "outputs": []
    },
    {
      "cell_type": "code",
      "source": [
        "duplicate_encode(\"Success\")"
      ],
      "metadata": {
        "id": "eZ8luKTZst2O"
      },
      "execution_count": null,
      "outputs": []
    },
    {
      "cell_type": "markdown",
      "source": [
        "4- Write a function, which takes a non-negative integer (seconds) as input and returns the time in a human-readable format (HH:MM:SS)\n",
        "\n",
        "HH = hours, padded to 2 digits, range: 00 - 99\n",
        "MM = minutes, padded to 2 digits, range: 00 - 59\n",
        "SS = seconds, padded to 2 digits, range: 00 - 59\n",
        "The maximum time never exceeds 359999 (99:59:59)\n",
        "[bağlantı metni](https://www.codewars.com/kata/52685f7382004e774f0001f7)"
      ],
      "metadata": {
        "id": "AlQ_YLKdtBgX"
      }
    },
    {
      "cell_type": "code",
      "source": [
        "def make_readable(s):\n",
        "    hh= (s//60) // 60\n",
        "    mm= (s//60) % 60\n",
        "    ss= s% 60\n",
        "    return f'{hh:02d}:{mm:02d}:{ss:02d}'"
      ],
      "metadata": {
        "id": "8RbPdMFbst4Y"
      },
      "execution_count": 11,
      "outputs": []
    },
    {
      "cell_type": "code",
      "source": [
        "make_readable(1205)"
      ],
      "metadata": {
        "colab": {
          "base_uri": "https://localhost:8080/",
          "height": 36
        },
        "id": "4f3fRPrMtCzg",
        "outputId": "cadf4015-64dd-4c4f-f3ec-544700cfc542"
      },
      "execution_count": 12,
      "outputs": [
        {
          "output_type": "execute_result",
          "data": {
            "application/vnd.google.colaboratory.intrinsic+json": {
              "type": "string"
            },
            "text/plain": [
              "'00:20:05'"
            ]
          },
          "metadata": {},
          "execution_count": 12
        }
      ]
    },
    {
      "cell_type": "code",
      "source": [
        "make_readable(5000)"
      ],
      "metadata": {
        "colab": {
          "base_uri": "https://localhost:8080/",
          "height": 36
        },
        "id": "-elSjW59tC2I",
        "outputId": "4f073185-518c-4727-a21f-b6651b8f88c1"
      },
      "execution_count": 13,
      "outputs": [
        {
          "output_type": "execute_result",
          "data": {
            "application/vnd.google.colaboratory.intrinsic+json": {
              "type": "string"
            },
            "text/plain": [
              "'01:23:20'"
            ]
          },
          "metadata": {},
          "execution_count": 13
        }
      ]
    },
    {
      "cell_type": "markdown",
      "source": [
        "5- Complete the function scramble(str1, str2) that returns true if a portion of str1 characters can be rearranged to match str2, otherwise returns false.\n",
        "\n",
        "Notes:\n",
        "\n",
        "Only lower case letters will be used (a-z). No punctuation or digits will be included.\n",
        "Performance needs to be considered\n",
        "Input strings s1 and s2 are null terminated.\n",
        "Examples\n",
        "scramble('rkqodlw', 'world') ==> True\n",
        "scramble('cedewaraaossoqqyt', 'codewars') ==> True\n",
        "scramble('katas', 'steak') ==> False [bağlantı metni](https://www.codewars.com/kata/55c04b4cc56a697bb0000048)"
      ],
      "metadata": {
        "id": "kUV8yhfqtQxe"
      }
    },
    {
      "cell_type": "code",
      "source": [
        "def scramble(s1,s2):\n",
        "    return all([True if s2.count(i) <= s1.count(i) else False for i in set(s2)])"
      ],
      "metadata": {
        "id": "B0GTuaXRtC4w"
      },
      "execution_count": 14,
      "outputs": []
    },
    {
      "cell_type": "code",
      "source": [
        "scramble('rkqodlw', 'world')"
      ],
      "metadata": {
        "id": "TQz2zyCEtSUN"
      },
      "execution_count": null,
      "outputs": []
    },
    {
      "cell_type": "code",
      "source": [
        "scramble('katas', 'steak')"
      ],
      "metadata": {
        "id": "f4hXTsfTtSXZ"
      },
      "execution_count": null,
      "outputs": []
    },
    {
      "cell_type": "code",
      "source": [
        "def scramble(s1,s2):\n",
        "    s=True\n",
        "    for i in set(s2):\n",
        "        if s2.count(i)> s1.count(i):\n",
        "            s= False\n",
        "            break\n",
        "    return s"
      ],
      "metadata": {
        "id": "bNjNlTuDtSZC"
      },
      "execution_count": 15,
      "outputs": []
    },
    {
      "cell_type": "code",
      "source": [
        "scramble('katase', 'steak')"
      ],
      "metadata": {
        "colab": {
          "base_uri": "https://localhost:8080/"
        },
        "id": "zAINxMm7tSbX",
        "outputId": "475437c4-6b16-4877-bc4c-02d24ad3d230"
      },
      "execution_count": 16,
      "outputs": [
        {
          "output_type": "execute_result",
          "data": {
            "text/plain": [
              "True"
            ]
          },
          "metadata": {},
          "execution_count": 16
        }
      ]
    },
    {
      "cell_type": "code",
      "source": [
        "scramble('katase', 'steeeeeeeeeeeeeeeeeeeeeeeeeeeeeeeeeeeeeeeeeeeeeeeeeeeeeeeeeeeeak')"
      ],
      "metadata": {
        "colab": {
          "base_uri": "https://localhost:8080/"
        },
        "id": "XecmtD03tSef",
        "outputId": "b08fbbbc-578c-437f-b3e3-8d21da640909"
      },
      "execution_count": 17,
      "outputs": [
        {
          "output_type": "execute_result",
          "data": {
            "text/plain": [
              "False"
            ]
          },
          "metadata": {},
          "execution_count": 17
        }
      ]
    },
    {
      "cell_type": "markdown",
      "source": [
        "6- Move the first letter of each word to the end of it, then add \"ay\" to the end of the word. Leave punctuation marks untouched.\n",
        "\n",
        "Examples\n",
        "pig_it('Pig latin is cool') # igPay atinlay siay oolcay\n",
        "pig_it('Hello world !')     # elloHay orldway ! [bağlantı metni](https://www.codewars.com/kata/520b9d2ad5c005041100000f)"
      ],
      "metadata": {
        "id": "pgntR8jHtmCm"
      }
    },
    {
      "cell_type": "code",
      "source": [
        "boş=[]\n",
        "def çevir(s):\n",
        "    for i in s.split():\n",
        "        print(i)\n",
        "        boş.append(i[::-1] +\"ay\")\n",
        "    return \" \".join(boş)"
      ],
      "metadata": {
        "id": "_ceL3oqntjgu"
      },
      "execution_count": 18,
      "outputs": []
    },
    {
      "cell_type": "code",
      "source": [
        "çevir(\"hello world\")"
      ],
      "metadata": {
        "colab": {
          "base_uri": "https://localhost:8080/",
          "height": 71
        },
        "id": "dzVfh7VxtjjV",
        "outputId": "692a508d-7345-4f97-956f-42a87b732a0d"
      },
      "execution_count": 19,
      "outputs": [
        {
          "output_type": "stream",
          "name": "stdout",
          "text": [
            "hello\n",
            "world\n"
          ]
        },
        {
          "output_type": "execute_result",
          "data": {
            "application/vnd.google.colaboratory.intrinsic+json": {
              "type": "string"
            },
            "text/plain": [
              "'ollehay dlroway'"
            ]
          },
          "metadata": {},
          "execution_count": 19
        }
      ]
    },
    {
      "cell_type": "code",
      "source": [
        "boş=[]\n",
        "def çevir(s):\n",
        "    for i in s.split():\n",
        "        print(i)\n",
        "        boş.append(i[1::]+i[0] +\"ay\")\n",
        "    return \" \".join(boş)"
      ],
      "metadata": {
        "id": "Ec4CrzV9tjr2"
      },
      "execution_count": 20,
      "outputs": []
    },
    {
      "cell_type": "code",
      "source": [
        "çevir(\"Hello World\")"
      ],
      "metadata": {
        "colab": {
          "base_uri": "https://localhost:8080/",
          "height": 71
        },
        "id": "cpgJxMUgtzL9",
        "outputId": "e09b515d-2e59-476e-c6fa-dd351a4d612e"
      },
      "execution_count": 21,
      "outputs": [
        {
          "output_type": "stream",
          "name": "stdout",
          "text": [
            "Hello\n",
            "World\n"
          ]
        },
        {
          "output_type": "execute_result",
          "data": {
            "application/vnd.google.colaboratory.intrinsic+json": {
              "type": "string"
            },
            "text/plain": [
              "'elloHay orldWay'"
            ]
          },
          "metadata": {},
          "execution_count": 21
        }
      ]
    },
    {
      "cell_type": "code",
      "source": [
        "def change(s):\n",
        "    s=s.split()\n",
        "    y=\"\"\n",
        "    for i in s:\n",
        "        if i.isalnum():\n",
        "            y += i[1::] +i[0]+'ay'+\" \"\n",
        "        else:\n",
        "            y += i+ \" \"\n",
        "    return y.strip()"
      ],
      "metadata": {
        "id": "gxgGZXzvtzPV"
      },
      "execution_count": 22,
      "outputs": []
    },
    {
      "cell_type": "code",
      "source": [
        "change(\"hello world\")"
      ],
      "metadata": {
        "colab": {
          "base_uri": "https://localhost:8080/",
          "height": 36
        },
        "id": "zEhiY7WXtzR_",
        "outputId": "7eb46fef-7885-46ca-bfc9-a2040b3e0004"
      },
      "execution_count": 23,
      "outputs": [
        {
          "output_type": "execute_result",
          "data": {
            "application/vnd.google.colaboratory.intrinsic+json": {
              "type": "string"
            },
            "text/plain": [
              "'ellohay orldway'"
            ]
          },
          "metadata": {},
          "execution_count": 23
        }
      ]
    },
    {
      "cell_type": "code",
      "source": [
        ""
      ],
      "metadata": {
        "id": "KaY7PZXztzUi"
      },
      "execution_count": null,
      "outputs": []
    },
    {
      "cell_type": "code",
      "source": [
        ""
      ],
      "metadata": {
        "id": "Th9lpdnEtzW4"
      },
      "execution_count": null,
      "outputs": []
    }
  ]
}