{
  "nbformat": 4,
  "nbformat_minor": 0,
  "metadata": {
    "colab": {
      "name": "11.05.21.suathoca.ipynb",
      "provenance": [],
      "collapsed_sections": [],
      "authorship_tag": "ABX9TyOfQmRdPySk4P+Gt2Z3t4Ml",
      "include_colab_link": true
    },
    "kernelspec": {
      "name": "python3",
      "display_name": "Python 3"
    },
    "language_info": {
      "name": "python"
    }
  },
  "cells": [
    {
      "cell_type": "markdown",
      "metadata": {
        "id": "view-in-github",
        "colab_type": "text"
      },
      "source": [
        "<a href=\"https://colab.research.google.com/github/glcn35/glcn_python/blob/main/11_05_21_suathoca.ipynb\" target=\"_parent\"><img src=\"https://colab.research.google.com/assets/colab-badge.svg\" alt=\"Open In Colab\"/></a>"
      ]
    },
    {
      "cell_type": "code",
      "execution_count": 5,
      "metadata": {
        "colab": {
          "base_uri": "https://localhost:8080/"
        },
        "id": "tRRPl9deLdbu",
        "outputId": "062c8a54-34ba-41ed-d2c3-db2a64fc4e5c"
      },
      "outputs": [
        {
          "output_type": "stream",
          "name": "stdout",
          "text": [
            "Türkiye\n",
            " Singapur\n",
            " Malezya\n",
            " Japonya\n",
            " Kanada, Portekiz, Lübnan\n"
          ]
        }
      ],
      "source": [
        "countries =\"Türkiye, Singapur, Malezya, Japonya, Kanada, Portekiz, Lübnan\"\n",
        "country= countries.split(\",\", 4)                     #limitler index numarasını splitle son kalan bütün elemanlar 4.son index numaradında toplanır\n",
        "print(*country , sep =\"\\n\")"
      ]
    },
    {
      "cell_type": "code",
      "source": [
        "countries"
      ],
      "metadata": {
        "colab": {
          "base_uri": "https://localhost:8080/",
          "height": 36
        },
        "id": "uJJcfRNYL6_q",
        "outputId": "a9e24696-5366-419c-b411-90e3959cb7f1"
      },
      "execution_count": 6,
      "outputs": [
        {
          "output_type": "execute_result",
          "data": {
            "application/vnd.google.colaboratory.intrinsic+json": {
              "type": "string"
            },
            "text/plain": [
              "'Türkiye, Singapur, Malezya, Japonya, Kanada, Portekiz, Lübnan'"
            ]
          },
          "metadata": {},
          "execution_count": 6
        }
      ]
    },
    {
      "cell_type": "code",
      "source": [
        "country"
      ],
      "metadata": {
        "colab": {
          "base_uri": "https://localhost:8080/"
        },
        "id": "ovJj4mN-L7CD",
        "outputId": "736782e3-2dc2-47d4-ccb9-33edffe95ebc"
      },
      "execution_count": 7,
      "outputs": [
        {
          "output_type": "execute_result",
          "data": {
            "text/plain": [
              "['Türkiye', ' Singapur', ' Malezya', ' Japonya', ' Kanada, Portekiz, Lübnan']"
            ]
          },
          "metadata": {},
          "execution_count": 7
        }
      ]
    },
    {
      "cell_type": "code",
      "source": [
        "#cümledeki en kısa kelime nedir ve kaç kelimeden oluşur\n",
        "text=\" soru çözümüyle kodlama becerim gelişiyor. ali\"\n",
        "a= text.split()\n",
        "print(min(a, key=len))"
      ],
      "metadata": {
        "colab": {
          "base_uri": "https://localhost:8080/"
        },
        "id": "XagOcZDGL7Eb",
        "outputId": "edfc711d-1ea6-4f70-9e99-7558b727e330"
      },
      "execution_count": 20,
      "outputs": [
        {
          "output_type": "stream",
          "name": "stdout",
          "text": [
            "ali\n"
          ]
        }
      ]
    },
    {
      "cell_type": "code",
      "source": [
        "price =[15.2, 17,10, 22.9, 16.5, 7.7, 11]"
      ],
      "metadata": {
        "id": "4E0RByBcNLqF"
      },
      "execution_count": 23,
      "outputs": []
    },
    {
      "cell_type": "code",
      "source": [
        "def discount(x):\n",
        "  return x -((x*20)/100)"
      ],
      "metadata": {
        "id": "U2LDIaG5NLs3"
      },
      "execution_count": 24,
      "outputs": []
    },
    {
      "cell_type": "code",
      "source": [
        "new_price = list(map(discount,price))\n",
        "print(new_price)                        #map ile herbir elemana price in discount indirimi uyguladık"
      ],
      "metadata": {
        "colab": {
          "base_uri": "https://localhost:8080/"
        },
        "id": "2WsvaC7gNLvx",
        "outputId": "155663e4-5dfc-424e-ad34-17c3be8f4c1d"
      },
      "execution_count": 29,
      "outputs": [
        {
          "output_type": "stream",
          "name": "stdout",
          "text": [
            "[12.16, 13.6, 8.0, 18.32, 13.2, 6.16, 8.8]\n"
          ]
        }
      ]
    },
    {
      "cell_type": "code",
      "source": [
        "new_price2 = list(map(int,price))\n",
        "print(new_price2)     "
      ],
      "metadata": {
        "colab": {
          "base_uri": "https://localhost:8080/"
        },
        "id": "Kq6fcMkYL7Gz",
        "outputId": "66488863-87ac-458b-9497-da886d533cfa"
      },
      "execution_count": 30,
      "outputs": [
        {
          "output_type": "stream",
          "name": "stdout",
          "text": [
            "[15, 17, 10, 22, 16, 7, 11]\n"
          ]
        }
      ]
    },
    {
      "cell_type": "code",
      "source": [
        "list1= [1,2,3,4,5]\n",
        "list2= [\"a\", \"b\", \"c\", \"d\",\"e\"]\n",
        "print(dict(zip(list1,list2)))"
      ],
      "metadata": {
        "colab": {
          "base_uri": "https://localhost:8080/"
        },
        "id": "oK3_QOUzL7I6",
        "outputId": "b85169ae-516b-4027-eb7a-319935d66694"
      },
      "execution_count": 31,
      "outputs": [
        {
          "output_type": "stream",
          "name": "stdout",
          "text": [
            "{1: 'a', 2: 'b', 3: 'c', 4: 'd', 5: 'e'}\n"
          ]
        }
      ]
    },
    {
      "cell_type": "code",
      "source": [
        "print(list(zip(list1,list2)))"
      ],
      "metadata": {
        "colab": {
          "base_uri": "https://localhost:8080/"
        },
        "id": "SyM4d4-WR6PZ",
        "outputId": "468cef86-42ed-41d7-d706-d23adbe578b0"
      },
      "execution_count": 32,
      "outputs": [
        {
          "output_type": "stream",
          "name": "stdout",
          "text": [
            "[(1, 'a'), (2, 'b'), (3, 'c'), (4, 'd'), (5, 'e')]\n"
          ]
        }
      ]
    },
    {
      "cell_type": "code",
      "source": [
        "print(zip(list1,list2))"
      ],
      "metadata": {
        "colab": {
          "base_uri": "https://localhost:8080/"
        },
        "id": "lpQR9AwPR6SB",
        "outputId": "3278a951-f3e1-46b5-b7db-c38d12b27af8"
      },
      "execution_count": 33,
      "outputs": [
        {
          "output_type": "stream",
          "name": "stdout",
          "text": [
            "<zip object at 0x7f1c72c58690>\n"
          ]
        }
      ]
    },
    {
      "cell_type": "code",
      "source": [
        "list1= [1,2,3]\n",
        "list2= [\"a\", \"b\", \"c\", \"d\",\"e\"]\n",
        "print(dict(zip(list1,list2)))"
      ],
      "metadata": {
        "colab": {
          "base_uri": "https://localhost:8080/"
        },
        "id": "NzzdCOeXR6Uu",
        "outputId": "a6441aee-c161-4af2-8100-8e7205582836"
      },
      "execution_count": 34,
      "outputs": [
        {
          "output_type": "stream",
          "name": "stdout",
          "text": [
            "{1: 'a', 2: 'b', 3: 'c'}\n"
          ]
        }
      ]
    },
    {
      "cell_type": "code",
      "source": [
        "list1= [1,2,3,1,1]\n",
        "list2= [\"a\", \"a\", \"c\", \"a\",\"e\"]    #(1, a) ikilisinden 2 tane olunca onun 1 tanesiini set old. gösterir.\n",
        "print(set(zip(list1,list2)))"
      ],
      "metadata": {
        "colab": {
          "base_uri": "https://localhost:8080/"
        },
        "id": "aQg2Pf7OR6XJ",
        "outputId": "2f6b1710-344b-4a64-ace8-63eef4c26fef"
      },
      "execution_count": 37,
      "outputs": [
        {
          "output_type": "stream",
          "name": "stdout",
          "text": [
            "{(1, 'e'), (3, 'c'), (1, 'a'), (2, 'a')}\n"
          ]
        }
      ]
    },
    {
      "cell_type": "code",
      "source": [
        "std= [\"ahmet\", \"tarık\", \"müzeyyen\"]\n",
        "new_std= list(enumerate(std))\n",
        "print(new_std)"
      ],
      "metadata": {
        "colab": {
          "base_uri": "https://localhost:8080/"
        },
        "id": "MJCQep6uR6aA",
        "outputId": "083be668-2716-48f7-e231-3311d845d631"
      },
      "execution_count": 38,
      "outputs": [
        {
          "output_type": "stream",
          "name": "stdout",
          "text": [
            "[(0, 'ahmet'), (1, 'tarık'), (2, 'müzeyyen')]\n"
          ]
        }
      ]
    },
    {
      "cell_type": "code",
      "source": [
        "std= [\"ahmet\", \"tarık\", \"müzeyyen\"]\n",
        "new_std= list(enumerate(std, 9000))\n",
        "print(new_std)"
      ],
      "metadata": {
        "colab": {
          "base_uri": "https://localhost:8080/"
        },
        "id": "-1PaRMpwS2uT",
        "outputId": "4ea42b93-37a4-4750-bb7a-5bbbdcd17f60"
      },
      "execution_count": 39,
      "outputs": [
        {
          "output_type": "stream",
          "name": "stdout",
          "text": [
            "[(9000, 'ahmet'), (9001, 'tarık'), (9002, 'müzeyyen')]\n"
          ]
        }
      ]
    },
    {
      "cell_type": "code",
      "source": [
        "std= [\"ahmet\", \"tarık\", \"müzeyyen\"]\n",
        "new_std= list(enumerate(std , 5))\n",
        "print(new_std)"
      ],
      "metadata": {
        "colab": {
          "base_uri": "https://localhost:8080/"
        },
        "id": "qAb2EiNlS2w7",
        "outputId": "2479ad8f-7119-4aea-9bfc-e5cdcd6457c6"
      },
      "execution_count": 44,
      "outputs": [
        {
          "output_type": "stream",
          "name": "stdout",
          "text": [
            "[(5, 'ahmet'), (6, 'tarık'), (7, 'müzeyyen')]\n"
          ]
        }
      ]
    },
    {
      "cell_type": "code",
      "source": [
        "#verilen kisteden {id: name} olacak sekilde dict olusturunuz.\n",
        "test_list=[\"ali\",1 ,\"veli\",2, \"osman\", 3, \"ahmet\", 4]"
      ],
      "metadata": {
        "id": "AKGBuAozTblz"
      },
      "execution_count": 45,
      "outputs": []
    },
    {
      "cell_type": "code",
      "source": [
        "name_list=test_list[::2]\n",
        "print(name_list)"
      ],
      "metadata": {
        "colab": {
          "base_uri": "https://localhost:8080/"
        },
        "id": "2alba-DITboS",
        "outputId": "57eb6c76-34ec-4656-d4f1-ba639bfa90b1"
      },
      "execution_count": 49,
      "outputs": [
        {
          "output_type": "stream",
          "name": "stdout",
          "text": [
            "['ali', 'veli', 'osman', 'ahmet']\n"
          ]
        }
      ]
    },
    {
      "cell_type": "code",
      "source": [
        "id_list= test_list[1::2]\n",
        "print(id_list)"
      ],
      "metadata": {
        "colab": {
          "base_uri": "https://localhost:8080/"
        },
        "id": "rZ_bQlBhTbq6",
        "outputId": "b7841fb0-ccdc-4d4a-cb39-ec97a72e28a7"
      },
      "execution_count": 50,
      "outputs": [
        {
          "output_type": "stream",
          "name": "stdout",
          "text": [
            "[1, 2, 3, 4]\n"
          ]
        }
      ]
    },
    {
      "cell_type": "code",
      "source": [
        "new_list= dict(zip(id_list,name_list))\n",
        "print(new_list)"
      ],
      "metadata": {
        "colab": {
          "base_uri": "https://localhost:8080/"
        },
        "id": "ELkyepZSS2zy",
        "outputId": "36aa2a01-9bdd-4dd6-9ab0-8156ac56a63d"
      },
      "execution_count": 52,
      "outputs": [
        {
          "output_type": "stream",
          "name": "stdout",
          "text": [
            "{1: 'ali', 2: 'veli', 3: 'osman', 4: 'ahmet'}\n"
          ]
        }
      ]
    },
    {
      "cell_type": "code",
      "source": [
        "#kullanıcıdan alınan  5 sayı içerisinden  en büyük 2. sayıyı bulan kodu yazınız."
      ],
      "metadata": {
        "id": "5Ny-9mhtR6c2"
      },
      "execution_count": null,
      "outputs": []
    },
    {
      "cell_type": "code",
      "source": [
        "numbers= list(map(int, input(\"enter fıve number: \").split()))\n",
        "print(numbers)"
      ],
      "metadata": {
        "colab": {
          "base_uri": "https://localhost:8080/"
        },
        "id": "Hi5c_yqAVEU9",
        "outputId": "2b07cbfa-80cb-4b1a-9a77-152ccc445a26"
      },
      "execution_count": 57,
      "outputs": [
        {
          "output_type": "stream",
          "name": "stdout",
          "text": [
            "enter fıve number: -10 20 20 17 15\n",
            "[-10, 20, 20, 17, 15]\n"
          ]
        }
      ]
    },
    {
      "cell_type": "code",
      "source": [
        "second_max =sorted(set(numbers))[-2]                   #aynı sayılar girilme ihtimalinden dolayı set yaptık. yapmazsak 20 den iki sefer giridiğinden en büyük 2.değişir."
      ],
      "metadata": {
        "id": "4dtTMAg4VEXy"
      },
      "execution_count": 58,
      "outputs": []
    },
    {
      "cell_type": "code",
      "source": [
        "print(second_max)"
      ],
      "metadata": {
        "colab": {
          "base_uri": "https://localhost:8080/"
        },
        "id": "YJU7_CkDVEcN",
        "outputId": "fa47218a-d1bf-4faa-8f92-1e413fa5940c"
      },
      "execution_count": 59,
      "outputs": [
        {
          "output_type": "stream",
          "name": "stdout",
          "text": [
            "17\n"
          ]
        }
      ]
    },
    {
      "cell_type": "code",
      "source": [
        "#kullanıcıdan alınan sayının negatif veya pozitif olduğunu bulan kodu yazınız."
      ],
      "metadata": {
        "id": "c0cBaMPhVEfF"
      },
      "execution_count": null,
      "outputs": []
    },
    {
      "cell_type": "code",
      "source": [
        "num=list(map(int,input( \"enter number: \").split()))\n",
        "for i in num:\n",
        "  if i<0:\n",
        "    print(\"negatif\")\n",
        "  elif i>0:\n",
        "    print(\"pozitif\")\n",
        "  else:\n",
        "    print(\"number is  zero\")"
      ],
      "metadata": {
        "colab": {
          "base_uri": "https://localhost:8080/"
        },
        "id": "UXR0_3wQVEh7",
        "outputId": "a20af809-d118-44c8-cbca-dcac5736580b"
      },
      "execution_count": 60,
      "outputs": [
        {
          "output_type": "stream",
          "name": "stdout",
          "text": [
            "enter number: 4 6 -33 -7 42\n",
            "pozitif\n",
            "pozitif\n",
            "negatif\n",
            "negatif\n",
            "pozitif\n"
          ]
        }
      ]
    },
    {
      "cell_type": "code",
      "source": [
        "email= \"D999@clarusway.com\"\n",
        "pswrd= \"d999\""
      ],
      "metadata": {
        "id": "LwBKflORWwpm"
      },
      "execution_count": 61,
      "outputs": []
    },
    {
      "cell_type": "code",
      "source": [
        "ent_mail = input(\"enter mail: \")\n",
        "ent_pswrd = input(\"enter pswrd: \")\n",
        "if (ent_mail== email and ent_pswrd != pswrd):\n",
        "   print(\"wrong pasword\")\n",
        "elif (ent_mail != email and ent_pswrd == pswrd):\n",
        "   print(\"wrong email adress\")  \n",
        "elif (ent_mail != email and ent_pswrd != pswrd):\n",
        "   print(\"wrong email and pasword\")\n",
        "else:\n",
        "  print(\"login sucsesful\")"
      ],
      "metadata": {
        "colab": {
          "base_uri": "https://localhost:8080/"
        },
        "id": "4mn2pDhsWwsZ",
        "outputId": "ab5db564-f52d-4a2f-89ac-988d0ce4df66"
      },
      "execution_count": 66,
      "outputs": [
        {
          "output_type": "stream",
          "name": "stdout",
          "text": [
            "enter mail: glcn@clarusway.com\n",
            "enter pswrd: d999\n",
            "wrong email adress\n"
          ]
        }
      ]
    },
    {
      "cell_type": "code",
      "source": [
        ""
      ],
      "metadata": {
        "id": "RTw23g2KWwvh"
      },
      "execution_count": null,
      "outputs": []
    }
  ]
}