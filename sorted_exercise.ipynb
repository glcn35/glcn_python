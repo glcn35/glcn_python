{
  "nbformat": 4,
  "nbformat_minor": 0,
  "metadata": {
    "colab": {
      "name": "sorted.exercise.ipynb",
      "provenance": [],
      "authorship_tag": "ABX9TyPaldLL0U4CYCOCCRResqC6",
      "include_colab_link": true
    },
    "kernelspec": {
      "name": "python3",
      "display_name": "Python 3"
    },
    "language_info": {
      "name": "python"
    }
  },
  "cells": [
    {
      "cell_type": "markdown",
      "metadata": {
        "id": "view-in-github",
        "colab_type": "text"
      },
      "source": [
        "<a href=\"https://colab.research.google.com/github/glcn35/glcn_python/blob/main/sorted_exercise.ipynb\" target=\"_parent\"><img src=\"https://colab.research.google.com/assets/colab-badge.svg\" alt=\"Open In Colab\"/></a>"
      ]
    },
    {
      "cell_type": "code",
      "execution_count": 1,
      "metadata": {
        "id": "f3c8oP5nF449"
      },
      "outputs": [],
      "source": [
        "my_tuple = (('a', 23),('b', 37),('c', 11), ('d',29))"
      ]
    },
    {
      "cell_type": "code",
      "source": [
        "my_tuple = (('a', 23),('b', 37),('c', 11), ('d',29))\n",
        "def func(i):\n",
        "  return i[1]\n",
        "print(\"Sorted with key:\", sorted(my_tuple, key=func))"
      ],
      "metadata": {
        "colab": {
          "base_uri": "https://localhost:8080/"
        },
        "id": "D74twRMoF8T4",
        "outputId": "6855feb3-d480-438b-b52d-65b2e164892c"
      },
      "execution_count": 10,
      "outputs": [
        {
          "output_type": "stream",
          "name": "stdout",
          "text": [
            "Sorted with key: [('c', 11), ('a', 23), ('d', 29), ('b', 37)]\n"
          ]
        }
      ]
    },
    {
      "cell_type": "code",
      "source": [
        "my_tuple = (('a', 23),('b', 37),('c', 11), ('d',29))\n",
        "sorted_tuple = sorted(my_tuple, key=lambda item: item[1])\n",
        "sorted_tuple"
      ],
      "metadata": {
        "colab": {
          "base_uri": "https://localhost:8080/"
        },
        "id": "nAAKGygUF8Wv",
        "outputId": "5a1987d3-fba7-405f-be64-d4c2a88b60d9"
      },
      "execution_count": 11,
      "outputs": [
        {
          "output_type": "execute_result",
          "data": {
            "text/plain": [
              "[('c', 11), ('a', 23), ('d', 29), ('b', 37)]"
            ]
          },
          "metadata": {},
          "execution_count": 11
        }
      ]
    },
    {
      "cell_type": "code",
      "source": [
        ""
      ],
      "metadata": {
        "id": "RR3n0CWlF8Y_"
      },
      "execution_count": null,
      "outputs": []
    },
    {
      "cell_type": "code",
      "source": [
        ""
      ],
      "metadata": {
        "id": "KpG36qFuF8bu"
      },
      "execution_count": null,
      "outputs": []
    },
    {
      "cell_type": "code",
      "source": [
        ""
      ],
      "metadata": {
        "id": "3B2pZwlwF8eL"
      },
      "execution_count": null,
      "outputs": []
    }
  ]
}